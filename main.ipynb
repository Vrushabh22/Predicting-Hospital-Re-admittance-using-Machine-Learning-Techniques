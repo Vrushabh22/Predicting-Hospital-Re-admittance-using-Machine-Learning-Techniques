{
 "cells": [
  {
   "cell_type": "markdown",
   "metadata": {},
   "source": [
    "# RIT DSCI-633: Foundations of Data Science and Analytics\n",
    "## Course Project: Predicting Hospital Readmittance of Diabetic Patients \n",
    "### Team #5\n",
    "#### April, 2022"
   ]
  },
  {
   "cell_type": "code",
   "execution_count": 5,
   "metadata": {},
   "outputs": [],
   "source": [
    "#file path\n",
    "path_file_data_test = 'diabetic_data_test.csv'\n",
    "path_file_data_train = 'diabetic_data_train.csv'"
   ]
  },
  {
   "cell_type": "code",
   "execution_count": 6,
   "metadata": {},
   "outputs": [],
   "source": [
    "#Libraries pre-requisites\n",
    "\n",
    "import pandas as pd\n",
    "import numpy as np\n",
    "from collections import Counter\n",
    "import math\n",
    "import statistics as st\n",
    "from sklearn import preprocessing\n",
    "from matplotlib import pyplot as plt\n",
    "from matplotlib import colors\n",
    "from matplotlib.ticker import PercentFormatter\n",
    "from fast_ml.model_development import train_valid_test_split\n",
    "from sklearn.preprocessing import OneHotEncoder, LabelEncoder\n",
    "from sklearn.tree import DecisionTreeClassifier\n",
    "from sklearn import svm\n",
    "from sklearn.naive_bayes import GaussianNB\n",
    "from sklearn import metrics\n",
    "from sklearn.model_selection import train_test_split, GridSearchCV\n",
    "import seaborn as sns\n",
    "from sklearn import tree\n",
    "from sklearn.ensemble import RandomForestClassifier\n",
    "from sklearn.metrics import confusion_matrix, f1_score, precision_score, recall_score, ConfusionMatrixDisplay, accuracy_score\n",
    "import imblearn\n",
    "from sklearn.preprocessing import MinMaxScaler\n",
    "from sklearn.model_selection import train_test_split\n",
    "from sklearn.feature_selection import RFECV\n",
    "from sklearn.tree import DecisionTreeClassifier\n",
    "from sklearn.naive_bayes import  BernoulliNB\n",
    "import lightgbm as lgb\n",
    "from lightgbm import LGBMClassifier\n",
    "from sklearn.pipeline import Pipeline\n",
    "from sklearn.metrics import roc_auc_score\n",
    "from sklearn.metrics import plot_roc_curve\n",
    "pd.set_option('display.max_columns', 500)\n",
    "pd.set_option('display.width', None)\n",
    "pd.set_option('display.max_colwidth', -1)"
   ]
  },
  {
   "cell_type": "markdown",
   "metadata": {},
   "source": [
    "## Data Loading"
   ]
  },
  {
   "cell_type": "code",
   "execution_count": 7,
   "metadata": {},
   "outputs": [],
   "source": [
    "data_train_explore = pd.read_csv(path_file_data_train)\n",
    "final = data_train_explore"
   ]
  },
  {
   "cell_type": "code",
   "execution_count": 8,
   "metadata": {},
   "outputs": [
    {
     "data": {
      "text/html": [
       "<div>\n",
       "<style scoped>\n",
       "    .dataframe tbody tr th:only-of-type {\n",
       "        vertical-align: middle;\n",
       "    }\n",
       "\n",
       "    .dataframe tbody tr th {\n",
       "        vertical-align: top;\n",
       "    }\n",
       "\n",
       "    .dataframe thead th {\n",
       "        text-align: right;\n",
       "    }\n",
       "</style>\n",
       "<table border=\"1\" class=\"dataframe\">\n",
       "  <thead>\n",
       "    <tr style=\"text-align: right;\">\n",
       "      <th></th>\n",
       "      <th>Unnamed: 0</th>\n",
       "      <th>encounter_id</th>\n",
       "      <th>patient_nbr</th>\n",
       "      <th>race</th>\n",
       "      <th>gender</th>\n",
       "      <th>age</th>\n",
       "      <th>weight</th>\n",
       "      <th>admission_type_id</th>\n",
       "      <th>discharge_disposition_id</th>\n",
       "      <th>admission_source_id</th>\n",
       "      <th>time_in_hospital</th>\n",
       "      <th>payer_code</th>\n",
       "      <th>medical_specialty</th>\n",
       "      <th>num_lab_procedures</th>\n",
       "      <th>num_procedures</th>\n",
       "      <th>num_medications</th>\n",
       "      <th>number_outpatient</th>\n",
       "      <th>number_emergency</th>\n",
       "      <th>number_inpatient</th>\n",
       "      <th>diag_1</th>\n",
       "      <th>diag_2</th>\n",
       "      <th>diag_3</th>\n",
       "      <th>number_diagnoses</th>\n",
       "      <th>max_glu_serum</th>\n",
       "      <th>A1Cresult</th>\n",
       "      <th>metformin</th>\n",
       "      <th>repaglinide</th>\n",
       "      <th>nateglinide</th>\n",
       "      <th>chlorpropamide</th>\n",
       "      <th>glimepiride</th>\n",
       "      <th>acetohexamide</th>\n",
       "      <th>glipizide</th>\n",
       "      <th>glyburide</th>\n",
       "      <th>tolbutamide</th>\n",
       "      <th>pioglitazone</th>\n",
       "      <th>rosiglitazone</th>\n",
       "      <th>acarbose</th>\n",
       "      <th>miglitol</th>\n",
       "      <th>troglitazone</th>\n",
       "      <th>tolazamide</th>\n",
       "      <th>examide</th>\n",
       "      <th>citoglipton</th>\n",
       "      <th>insulin</th>\n",
       "      <th>glyburide-metformin</th>\n",
       "      <th>glipizide-metformin</th>\n",
       "      <th>glimepiride-pioglitazone</th>\n",
       "      <th>metformin-rosiglitazone</th>\n",
       "      <th>metformin-pioglitazone</th>\n",
       "      <th>change</th>\n",
       "      <th>diabetesMed</th>\n",
       "      <th>readmitted</th>\n",
       "    </tr>\n",
       "  </thead>\n",
       "  <tbody>\n",
       "    <tr>\n",
       "      <th>0</th>\n",
       "      <td>93634</td>\n",
       "      <td>338369606</td>\n",
       "      <td>159605546</td>\n",
       "      <td>AfricanAmerican</td>\n",
       "      <td>Male</td>\n",
       "      <td>[70-80)</td>\n",
       "      <td>?</td>\n",
       "      <td>1</td>\n",
       "      <td>23</td>\n",
       "      <td>7</td>\n",
       "      <td>3</td>\n",
       "      <td>MC</td>\n",
       "      <td>?</td>\n",
       "      <td>63</td>\n",
       "      <td>0</td>\n",
       "      <td>7</td>\n",
       "      <td>0</td>\n",
       "      <td>0</td>\n",
       "      <td>0</td>\n",
       "      <td>38</td>\n",
       "      <td>294</td>\n",
       "      <td>?</td>\n",
       "      <td>8</td>\n",
       "      <td>None</td>\n",
       "      <td>None</td>\n",
       "      <td>No</td>\n",
       "      <td>No</td>\n",
       "      <td>No</td>\n",
       "      <td>No</td>\n",
       "      <td>No</td>\n",
       "      <td>No</td>\n",
       "      <td>No</td>\n",
       "      <td>No</td>\n",
       "      <td>No</td>\n",
       "      <td>No</td>\n",
       "      <td>No</td>\n",
       "      <td>No</td>\n",
       "      <td>No</td>\n",
       "      <td>No</td>\n",
       "      <td>No</td>\n",
       "      <td>No</td>\n",
       "      <td>No</td>\n",
       "      <td>No</td>\n",
       "      <td>No</td>\n",
       "      <td>No</td>\n",
       "      <td>No</td>\n",
       "      <td>No</td>\n",
       "      <td>No</td>\n",
       "      <td>No</td>\n",
       "      <td>No</td>\n",
       "      <td>NO</td>\n",
       "    </tr>\n",
       "    <tr>\n",
       "      <th>1</th>\n",
       "      <td>27698</td>\n",
       "      <td>90739116</td>\n",
       "      <td>83232054</td>\n",
       "      <td>Caucasian</td>\n",
       "      <td>Female</td>\n",
       "      <td>[70-80)</td>\n",
       "      <td>[75-100)</td>\n",
       "      <td>3</td>\n",
       "      <td>1</td>\n",
       "      <td>1</td>\n",
       "      <td>1</td>\n",
       "      <td>MC</td>\n",
       "      <td>Cardiology</td>\n",
       "      <td>54</td>\n",
       "      <td>6</td>\n",
       "      <td>8</td>\n",
       "      <td>0</td>\n",
       "      <td>0</td>\n",
       "      <td>0</td>\n",
       "      <td>414</td>\n",
       "      <td>411</td>\n",
       "      <td>996</td>\n",
       "      <td>6</td>\n",
       "      <td>None</td>\n",
       "      <td>None</td>\n",
       "      <td>No</td>\n",
       "      <td>No</td>\n",
       "      <td>No</td>\n",
       "      <td>No</td>\n",
       "      <td>No</td>\n",
       "      <td>No</td>\n",
       "      <td>No</td>\n",
       "      <td>No</td>\n",
       "      <td>No</td>\n",
       "      <td>No</td>\n",
       "      <td>No</td>\n",
       "      <td>No</td>\n",
       "      <td>No</td>\n",
       "      <td>No</td>\n",
       "      <td>No</td>\n",
       "      <td>No</td>\n",
       "      <td>No</td>\n",
       "      <td>No</td>\n",
       "      <td>No</td>\n",
       "      <td>No</td>\n",
       "      <td>No</td>\n",
       "      <td>No</td>\n",
       "      <td>No</td>\n",
       "      <td>No</td>\n",
       "      <td>No</td>\n",
       "      <td>NO</td>\n",
       "    </tr>\n",
       "  </tbody>\n",
       "</table>\n",
       "</div>"
      ],
      "text/plain": [
       "   Unnamed: 0  encounter_id  patient_nbr             race  gender      age  \\\n",
       "0  93634       338369606     159605546    AfricanAmerican  Male    [70-80)   \n",
       "1  27698       90739116      83232054     Caucasian        Female  [70-80)   \n",
       "\n",
       "     weight  admission_type_id  discharge_disposition_id  admission_source_id  \\\n",
       "0  ?         1                  23                        7                     \n",
       "1  [75-100)  3                  1                         1                     \n",
       "\n",
       "   time_in_hospital payer_code medical_specialty  num_lab_procedures  \\\n",
       "0  3                 MC         ?                 63                   \n",
       "1  1                 MC         Cardiology        54                   \n",
       "\n",
       "   num_procedures  num_medications  number_outpatient  number_emergency  \\\n",
       "0  0               7                0                  0                  \n",
       "1  6               8                0                  0                  \n",
       "\n",
       "   number_inpatient diag_1 diag_2 diag_3  number_diagnoses max_glu_serum  \\\n",
       "0  0                 38     294    ?      8                 None           \n",
       "1  0                 414    411    996    6                 None           \n",
       "\n",
       "  A1Cresult metformin repaglinide nateglinide chlorpropamide glimepiride  \\\n",
       "0  None      No        No          No          No             No           \n",
       "1  None      No        No          No          No             No           \n",
       "\n",
       "  acetohexamide glipizide glyburide tolbutamide pioglitazone rosiglitazone  \\\n",
       "0  No            No        No        No          No           No             \n",
       "1  No            No        No        No          No           No             \n",
       "\n",
       "  acarbose miglitol troglitazone tolazamide examide citoglipton insulin  \\\n",
       "0  No       No       No           No         No      No          No       \n",
       "1  No       No       No           No         No      No          No       \n",
       "\n",
       "  glyburide-metformin glipizide-metformin glimepiride-pioglitazone  \\\n",
       "0  No                  No                  No                        \n",
       "1  No                  No                  No                        \n",
       "\n",
       "  metformin-rosiglitazone metformin-pioglitazone change diabetesMed readmitted  \n",
       "0  No                      No                     No     No          NO         \n",
       "1  No                      No                     No     No          NO         "
      ]
     },
     "execution_count": 8,
     "metadata": {},
     "output_type": "execute_result"
    }
   ],
   "source": [
    "data_train_explore.head(2)"
   ]
  },
  {
   "cell_type": "code",
   "execution_count": 9,
   "metadata": {},
   "outputs": [
    {
     "data": {
      "text/plain": [
       "(76324, 51)"
      ]
     },
     "execution_count": 9,
     "metadata": {},
     "output_type": "execute_result"
    }
   ],
   "source": [
    "data_train_explore.shape"
   ]
  },
  {
   "cell_type": "code",
   "execution_count": 10,
   "metadata": {},
   "outputs": [
    {
     "data": {
      "text/plain": [
       "Index(['Unnamed: 0', 'encounter_id', 'patient_nbr', 'race', 'gender', 'age',\n",
       "       'weight', 'admission_type_id', 'discharge_disposition_id',\n",
       "       'admission_source_id', 'time_in_hospital', 'payer_code',\n",
       "       'medical_specialty', 'num_lab_procedures', 'num_procedures',\n",
       "       'num_medications', 'number_outpatient', 'number_emergency',\n",
       "       'number_inpatient', 'diag_1', 'diag_2', 'diag_3', 'number_diagnoses',\n",
       "       'max_glu_serum', 'A1Cresult', 'metformin', 'repaglinide', 'nateglinide',\n",
       "       'chlorpropamide', 'glimepiride', 'acetohexamide', 'glipizide',\n",
       "       'glyburide', 'tolbutamide', 'pioglitazone', 'rosiglitazone', 'acarbose',\n",
       "       'miglitol', 'troglitazone', 'tolazamide', 'examide', 'citoglipton',\n",
       "       'insulin', 'glyburide-metformin', 'glipizide-metformin',\n",
       "       'glimepiride-pioglitazone', 'metformin-rosiglitazone',\n",
       "       'metformin-pioglitazone', 'change', 'diabetesMed', 'readmitted'],\n",
       "      dtype='object')"
      ]
     },
     "execution_count": 10,
     "metadata": {},
     "output_type": "execute_result"
    }
   ],
   "source": [
    "data_train_explore.columns"
   ]
  },
  {
   "cell_type": "code",
   "execution_count": 12,
   "metadata": {},
   "outputs": [
    {
     "data": {
      "text/html": [
       "<div>\n",
       "<style scoped>\n",
       "    .dataframe tbody tr th:only-of-type {\n",
       "        vertical-align: middle;\n",
       "    }\n",
       "\n",
       "    .dataframe tbody tr th {\n",
       "        vertical-align: top;\n",
       "    }\n",
       "\n",
       "    .dataframe thead th {\n",
       "        text-align: right;\n",
       "    }\n",
       "</style>\n",
       "<table border=\"1\" class=\"dataframe\">\n",
       "  <thead>\n",
       "    <tr style=\"text-align: right;\">\n",
       "      <th></th>\n",
       "      <th>Unnamed: 0</th>\n",
       "      <th>encounter_id</th>\n",
       "      <th>patient_nbr</th>\n",
       "      <th>admission_type_id</th>\n",
       "      <th>discharge_disposition_id</th>\n",
       "      <th>admission_source_id</th>\n",
       "      <th>time_in_hospital</th>\n",
       "      <th>num_lab_procedures</th>\n",
       "      <th>num_procedures</th>\n",
       "      <th>num_medications</th>\n",
       "      <th>number_outpatient</th>\n",
       "      <th>number_emergency</th>\n",
       "      <th>number_inpatient</th>\n",
       "      <th>number_diagnoses</th>\n",
       "    </tr>\n",
       "  </thead>\n",
       "  <tbody>\n",
       "    <tr>\n",
       "      <th>count</th>\n",
       "      <td>76324.000000</td>\n",
       "      <td>7.632400e+04</td>\n",
       "      <td>7.632400e+04</td>\n",
       "      <td>76324.000000</td>\n",
       "      <td>76324.000000</td>\n",
       "      <td>76324.000000</td>\n",
       "      <td>76324.000000</td>\n",
       "      <td>76324.000000</td>\n",
       "      <td>76324.000000</td>\n",
       "      <td>76324.000000</td>\n",
       "      <td>76324.000000</td>\n",
       "      <td>76324.000000</td>\n",
       "      <td>76324.000000</td>\n",
       "      <td>76324.000000</td>\n",
       "    </tr>\n",
       "    <tr>\n",
       "      <th>mean</th>\n",
       "      <td>51030.451431</td>\n",
       "      <td>1.657131e+08</td>\n",
       "      <td>5.440963e+07</td>\n",
       "      <td>2.020059</td>\n",
       "      <td>3.720992</td>\n",
       "      <td>5.751703</td>\n",
       "      <td>4.400084</td>\n",
       "      <td>43.136445</td>\n",
       "      <td>1.335163</td>\n",
       "      <td>16.025942</td>\n",
       "      <td>0.375046</td>\n",
       "      <td>0.200985</td>\n",
       "      <td>0.639432</td>\n",
       "      <td>7.423602</td>\n",
       "    </tr>\n",
       "    <tr>\n",
       "      <th>std</th>\n",
       "      <td>29364.017248</td>\n",
       "      <td>1.027571e+08</td>\n",
       "      <td>3.872523e+07</td>\n",
       "      <td>1.441786</td>\n",
       "      <td>5.289243</td>\n",
       "      <td>4.050886</td>\n",
       "      <td>2.985689</td>\n",
       "      <td>19.673383</td>\n",
       "      <td>1.701378</td>\n",
       "      <td>8.119375</td>\n",
       "      <td>1.291108</td>\n",
       "      <td>0.936242</td>\n",
       "      <td>1.273049</td>\n",
       "      <td>1.938609</td>\n",
       "    </tr>\n",
       "    <tr>\n",
       "      <th>min</th>\n",
       "      <td>0.000000</td>\n",
       "      <td>1.252200e+04</td>\n",
       "      <td>7.290000e+02</td>\n",
       "      <td>1.000000</td>\n",
       "      <td>1.000000</td>\n",
       "      <td>1.000000</td>\n",
       "      <td>1.000000</td>\n",
       "      <td>1.000000</td>\n",
       "      <td>0.000000</td>\n",
       "      <td>1.000000</td>\n",
       "      <td>0.000000</td>\n",
       "      <td>0.000000</td>\n",
       "      <td>0.000000</td>\n",
       "      <td>1.000000</td>\n",
       "    </tr>\n",
       "    <tr>\n",
       "      <th>25%</th>\n",
       "      <td>25657.750000</td>\n",
       "      <td>8.548698e+07</td>\n",
       "      <td>2.341891e+07</td>\n",
       "      <td>1.000000</td>\n",
       "      <td>1.000000</td>\n",
       "      <td>1.000000</td>\n",
       "      <td>2.000000</td>\n",
       "      <td>32.000000</td>\n",
       "      <td>0.000000</td>\n",
       "      <td>10.000000</td>\n",
       "      <td>0.000000</td>\n",
       "      <td>0.000000</td>\n",
       "      <td>0.000000</td>\n",
       "      <td>6.000000</td>\n",
       "    </tr>\n",
       "    <tr>\n",
       "      <th>50%</th>\n",
       "      <td>51050.500000</td>\n",
       "      <td>1.526763e+08</td>\n",
       "      <td>4.559911e+07</td>\n",
       "      <td>1.000000</td>\n",
       "      <td>1.000000</td>\n",
       "      <td>7.000000</td>\n",
       "      <td>4.000000</td>\n",
       "      <td>44.000000</td>\n",
       "      <td>1.000000</td>\n",
       "      <td>15.000000</td>\n",
       "      <td>0.000000</td>\n",
       "      <td>0.000000</td>\n",
       "      <td>0.000000</td>\n",
       "      <td>8.000000</td>\n",
       "    </tr>\n",
       "    <tr>\n",
       "      <th>75%</th>\n",
       "      <td>76428.250000</td>\n",
       "      <td>2.307394e+08</td>\n",
       "      <td>8.761871e+07</td>\n",
       "      <td>3.000000</td>\n",
       "      <td>4.000000</td>\n",
       "      <td>7.000000</td>\n",
       "      <td>6.000000</td>\n",
       "      <td>57.000000</td>\n",
       "      <td>2.000000</td>\n",
       "      <td>20.000000</td>\n",
       "      <td>0.000000</td>\n",
       "      <td>0.000000</td>\n",
       "      <td>1.000000</td>\n",
       "      <td>9.000000</td>\n",
       "    </tr>\n",
       "    <tr>\n",
       "      <th>max</th>\n",
       "      <td>101765.000000</td>\n",
       "      <td>4.438672e+08</td>\n",
       "      <td>1.895026e+08</td>\n",
       "      <td>8.000000</td>\n",
       "      <td>28.000000</td>\n",
       "      <td>25.000000</td>\n",
       "      <td>14.000000</td>\n",
       "      <td>132.000000</td>\n",
       "      <td>6.000000</td>\n",
       "      <td>81.000000</td>\n",
       "      <td>42.000000</td>\n",
       "      <td>76.000000</td>\n",
       "      <td>21.000000</td>\n",
       "      <td>16.000000</td>\n",
       "    </tr>\n",
       "  </tbody>\n",
       "</table>\n",
       "</div>"
      ],
      "text/plain": [
       "          Unnamed: 0  encounter_id   patient_nbr  admission_type_id  \\\n",
       "count  76324.000000   7.632400e+04  7.632400e+04  76324.000000        \n",
       "mean   51030.451431   1.657131e+08  5.440963e+07  2.020059            \n",
       "std    29364.017248   1.027571e+08  3.872523e+07  1.441786            \n",
       "min    0.000000       1.252200e+04  7.290000e+02  1.000000            \n",
       "25%    25657.750000   8.548698e+07  2.341891e+07  1.000000            \n",
       "50%    51050.500000   1.526763e+08  4.559911e+07  1.000000            \n",
       "75%    76428.250000   2.307394e+08  8.761871e+07  3.000000            \n",
       "max    101765.000000  4.438672e+08  1.895026e+08  8.000000            \n",
       "\n",
       "       discharge_disposition_id  admission_source_id  time_in_hospital  \\\n",
       "count  76324.000000              76324.000000         76324.000000       \n",
       "mean   3.720992                  5.751703             4.400084           \n",
       "std    5.289243                  4.050886             2.985689           \n",
       "min    1.000000                  1.000000             1.000000           \n",
       "25%    1.000000                  1.000000             2.000000           \n",
       "50%    1.000000                  7.000000             4.000000           \n",
       "75%    4.000000                  7.000000             6.000000           \n",
       "max    28.000000                 25.000000            14.000000          \n",
       "\n",
       "       num_lab_procedures  num_procedures  num_medications  number_outpatient  \\\n",
       "count  76324.000000        76324.000000    76324.000000     76324.000000        \n",
       "mean   43.136445           1.335163        16.025942        0.375046            \n",
       "std    19.673383           1.701378        8.119375         1.291108            \n",
       "min    1.000000            0.000000        1.000000         0.000000            \n",
       "25%    32.000000           0.000000        10.000000        0.000000            \n",
       "50%    44.000000           1.000000        15.000000        0.000000            \n",
       "75%    57.000000           2.000000        20.000000        0.000000            \n",
       "max    132.000000          6.000000        81.000000        42.000000           \n",
       "\n",
       "       number_emergency  number_inpatient  number_diagnoses  \n",
       "count  76324.000000      76324.000000      76324.000000      \n",
       "mean   0.200985          0.639432          7.423602          \n",
       "std    0.936242          1.273049          1.938609          \n",
       "min    0.000000          0.000000          1.000000          \n",
       "25%    0.000000          0.000000          6.000000          \n",
       "50%    0.000000          0.000000          8.000000          \n",
       "75%    0.000000          1.000000          9.000000          \n",
       "max    76.000000         21.000000         16.000000         "
      ]
     },
     "execution_count": 12,
     "metadata": {},
     "output_type": "execute_result"
    }
   ],
   "source": [
    "data_train_explore.describe()"
   ]
  },
  {
   "cell_type": "markdown",
   "metadata": {},
   "source": [
    "## Data Exploritory Analysis"
   ]
  },
  {
   "cell_type": "markdown",
   "metadata": {},
   "source": [
    "### Python based Analysis"
   ]
  },
  {
   "cell_type": "markdown",
   "metadata": {},
   "source": [
    "Running Exploritory Analysis on the Training set!"
   ]
  },
  {
   "cell_type": "code",
   "execution_count": 5,
   "metadata": {},
   "outputs": [
    {
     "data": {
      "image/png": "[encoded data removed]",
      "text/plain": [
       "<Figure size 504x360 with 1 Axes>"
      ]
     },
     "metadata": {
      "needs_background": "light"
     },
     "output_type": "display_data"
    },
    {
     "name": "stdout",
     "output_type": "stream",
     "text": [
      "Findings:\n",
      "Target Class Imbalance!, (>30 & none) class overwells the required target class (<30)\n"
     ]
    }
   ],
   "source": [
    "# Target Class inspection\n",
    "plt.figure(figsize = (7,5))\n",
    "data_c = data_train_explore['readmitted']\n",
    "plt.title(\"Target Class Occurance\")\n",
    "plt.xlabel(\"readmitted\")\n",
    "plt.ylabel(\"Frequency\")\n",
    "#plt.hist (data_cr, bins = 'auto', color = \"royalblue\", edgecolor='black',rwidth=10)\n",
    "plt.hist(data_c, color = \"lightcoral\", edgecolor='red', bins=data_train_explore['readmitted'].nunique()) \n",
    "plt.show()\n",
    "\n",
    "print('Findings:')\n",
    "print('Target Class Imbalance!, (>30 & none) class overwells the required target class (<30)')"
   ]
  },
  {
   "cell_type": "code",
   "execution_count": 6,
   "metadata": {},
   "outputs": [
    {
     "data": {
      "image/png": "[encoded data removed]",
      "text/plain": [
       "<Figure size 504x360 with 1 Axes>"
      ]
     },
     "metadata": {
      "needs_background": "light"
     },
     "output_type": "display_data"
    },
    {
     "name": "stdout",
     "output_type": "stream",
     "text": [
      "Findings:\n",
      "Readmitted <30 count is low showing target class imbalance but even across genders. Split is quite even across both the groups.\n"
     ]
    }
   ],
   "source": [
    " # Gender trends related to readmission\n",
    "plt.figure(figsize = (7,5))\n",
    "\n",
    "dx_m = pd.DataFrame()\n",
    "dx_m = data_train_explore[(data_train_explore['gender'] == \"Male\")] \n",
    "dx_a = dx_m['readmitted']\n",
    "\n",
    "dx_f = pd.DataFrame()\n",
    "dx_f = data_train_explore[(data_train_explore['gender'] == \"Female\")] \n",
    "dx_b = dx_f['readmitted']\n",
    "\n",
    "\n",
    "plt.title(\"Gender Readmission Plot\")\n",
    "plt.xlabel(\"Readmitted Occurance\")\n",
    "plt.ylabel(\"Frequency\")\n",
    "#plt.hist (data_cr, bins = 'auto', color = \"royalblue\", edgecolor='black',rwidth=10)\n",
    "plt.hist(dx_a, edgecolor='black', bins=data_train_explore['readmitted'].nunique(), alpha = 0.6, label='Male')\n",
    "plt.hist(dx_b, edgecolor='black', bins=data_train_explore['readmitted'].nunique(), alpha = 0.2, label = 'Female')  \n",
    "plt.legend(loc='upper right')\n",
    "plt.show()\n",
    "\n",
    "print('Findings:')\n",
    "print('Readmitted <30 count is low showing target class imbalance but even across genders. Split is quite even across both the groups.')"
   ]
  },
  {
   "cell_type": "code",
   "execution_count": 7,
   "metadata": {},
   "outputs": [
    {
     "data": {
      "image/png": "[encoded data removed]",
      "text/plain": [
       "<Figure size 864x504 with 1 Axes>"
      ]
     },
     "metadata": {
      "needs_background": "light"
     },
     "output_type": "display_data"
    },
    {
     "name": "stdout",
     "output_type": "stream",
     "text": [
      "Findings:\n",
      "Readmitted (>30 & none) count has alot of variance across age groups, and will have to be managed. Patient count only increase when age>50.\n"
     ]
    }
   ],
   "source": [
    "#Age study of patients being readmitted to the hospital\n",
    "plt.figure(figsize = (12,7))\n",
    "\n",
    "dx_l30 = pd.DataFrame()\n",
    "dx_l30 = data_train_explore[(data_train_explore['readmitted'] == \"<30\")] \n",
    "dx_c = dx_l30['age']\n",
    "\n",
    "dx_m30 = pd.DataFrame()\n",
    "dx_m30 =  data_train_explore[~(data_train_explore['readmitted'] == \"<30\")] \n",
    "dx_d = dx_m30['age']\n",
    "\n",
    "\n",
    "plt.title(\"Age Readmission Plot\")\n",
    "plt.xlabel(\"Age Occurance\")\n",
    "plt.ylabel(\"Frequency\")\n",
    "#plt.hist (data_cr, bins = 'auto', color = \"royalblue\", edgecolor='black',rwidth=10)\n",
    "plt.hist(dx_c, edgecolor='black', bins=data_train_explore['age'].nunique(), alpha = 0.6, label='<30',color = \"royalblue\")\n",
    "plt.hist(dx_d, edgecolor='black', bins=data_train_explore['age'].nunique(), alpha = 0.2, label = '>30 & none')  \n",
    "plt.legend(loc='upper right')\n",
    "plt.show()\n",
    "\n",
    "print('Findings:')\n",
    "print('Readmitted (>30 & none) count has alot of variance across age groups, and will have to be managed. Patient count only increase when age>50.')"
   ]
  },
  {
   "cell_type": "code",
   "execution_count": 8,
   "metadata": {},
   "outputs": [
    {
     "data": {
      "image/png": "[encoded data removed]",
      "text/plain": [
       "<Figure size 1080x504 with 1 Axes>"
      ]
     },
     "metadata": {
      "needs_background": "light"
     },
     "output_type": "display_data"
    },
    {
     "name": "stdout",
     "output_type": "stream",
     "text": [
      "Findings:\n",
      "Readmitted (>30 & none) count has alot baise across African and Caucasian race.\n"
     ]
    }
   ],
   "source": [
    "#Race study of patients being readmitted to the hospital\n",
    "plt.figure(figsize = (15,7))\n",
    "\n",
    "dx_l30 = pd.DataFrame()\n",
    "dx_l30 = data_train_explore[(data_train_explore['readmitted'] == \"<30\")] \n",
    "dx_c = dx_l30['race']\n",
    "\n",
    "dx_m30 = pd.DataFrame()\n",
    "dx_m30 =  data_train_explore[~(data_train_explore['readmitted'] == \"<30\")] \n",
    "dx_d = dx_m30['race']\n",
    "\n",
    "\n",
    "plt.title(\"Race Readmission Plot\")\n",
    "plt.xlabel(\"Race Occurance\")\n",
    "plt.ylabel(\"Frequency\")\n",
    "#plt.hist (data_cr, bins = 'auto', color = \"royalblue\", edgecolor='black',rwidth=10)\n",
    "plt.hist(dx_c, edgecolor='black', bins=data_train_explore['race'].nunique(), alpha = 0.6, label='<30',color = \"lightgreen\")\n",
    "plt.hist(dx_d, edgecolor='black', bins=data_train_explore['race'].nunique(), alpha = 0.2, label = '>30 & none')  \n",
    "plt.legend(loc='upper right')\n",
    "plt.show()\n",
    "\n",
    "\n",
    "print('Findings:')\n",
    "print('Readmitted (>30 & none) count has alot baise across African and Caucasian race.')"
   ]
  },
  {
   "cell_type": "code",
   "execution_count": 9,
   "metadata": {},
   "outputs": [
    {
     "name": "stdout",
     "output_type": "stream",
     "text": [
      "Alot of outliers and extreme cases can be seen in both gender cases for the time spent in the hospital with the mean lying at 5 days for the overall population\n"
     ]
    },
    {
     "data": {
      "image/png": "[encoded data removed]",
      "text/plain": [
       "<Figure size 504x360 with 1 Axes>"
      ]
     },
     "metadata": {
      "needs_background": "light"
     },
     "output_type": "display_data"
    }
   ],
   "source": [
    "#Gender vs Time in Hospital Spent\n",
    "plt.figure(figsize = (7,5))\n",
    "ax_h1 = sns.boxplot(x=\"gender\", y=\"time_in_hospital\", data=data_train_explore)\n",
    "print('Alot of outliers and extreme cases can be seen in both gender cases for the time spent in the hospital with the mean lying at 5 days for the overall population')"
   ]
  },
  {
   "cell_type": "code",
   "execution_count": 10,
   "metadata": {},
   "outputs": [
    {
     "data": {
      "image/png": "[encoded data removed]",
      "text/plain": [
       "<Figure size 720x288 with 1 Axes>"
      ]
     },
     "metadata": {
      "needs_background": "light"
     },
     "output_type": "display_data"
    },
    {
     "name": "stdout",
     "output_type": "stream",
     "text": [
      "1/3 of the patient population had to be administrated with insulin\n"
     ]
    }
   ],
   "source": [
    "#Insulin VS Readmission status study\n",
    "fig, ax =plt.subplots(figsize=(10,4))\n",
    "sns.countplot(x=\"insulin\", hue=\"readmitted\", data=data_train_explore)\n",
    "plt.show()\n",
    "print('1/3 of the patient population had to be administrated with insulin')"
   ]
  },
  {
   "cell_type": "code",
   "execution_count": 11,
   "metadata": {},
   "outputs": [
    {
     "name": "stdout",
     "output_type": "stream",
     "text": [
      "Old age patient population consisted of majority to be administrated with insulin\n"
     ]
    },
    {
     "data": {
      "image/png": "[encoded data removed]",
      "text/plain": [
       "<Figure size 943x432 with 1 Axes>"
      ]
     },
     "metadata": {
      "needs_background": "light"
     },
     "output_type": "display_data"
    }
   ],
   "source": [
    "#Age, Insulin VS Readmission status study\n",
    "age_list = list(data_train_explore.age.unique())\n",
    "sns.catplot(x=\"insulin\", hue=\"age\", data=data_train_explore, kind=\"count\", height=6, aspect=2, palette=\"gnuplot\");\n",
    "print('Old age patient population consisted of majority to be administrated with insulin')"
   ]
  },
  {
   "cell_type": "markdown",
   "metadata": {},
   "source": [
    "### Null Value Analysis"
   ]
  },
  {
   "cell_type": "markdown",
   "metadata": {},
   "source": [
    "\n",
    "\n",
    "List of columns to be observed are:\n",
    "- Medical Specialty\n",
    "- Payer Code\n",
    "- Weight\n",
    "- Citoglipton & Examide - Medicines administered\n",
    "- Admission Source\n",
    "- Admission Type\n",
    "- Discharge Deposition\n",
    "- Age\n",
    "- Race\n",
    "- Gender"
   ]
  },
  {
   "cell_type": "code",
   "execution_count": 12,
   "metadata": {},
   "outputs": [
    {
     "name": "stdout",
     "output_type": "stream",
     "text": [
      "Medical Specialty:\n",
      "Null values: 37482\n",
      "Correct values: 38842\n",
      "P% null issue left: 49.11 %\n"
     ]
    }
   ],
   "source": [
    "print(\"Medical Specialty:\")\n",
    "\n",
    "index_null_mspec = data_train_explore[(data_train_explore['medical_specialty'] == '?')]\n",
    "index_notnull_mspec = data_train_explore[~(data_train_explore['medical_specialty'] == '?')]\n",
    "\n",
    "print('Null values:', len(index_null_mspec))\n",
    "print('Correct values:', len(index_notnull_mspec))\n",
    "\n",
    "print('P% null issue left:', round(len(index_null_mspec)/len(final)*100,2),\"%\")\n",
    "\n",
    "pd.value_counts(data_train_explore.medical_specialty)\n",
    "data_train_explore.loc[(data_train_explore.medical_specialty == \"?\"),'medical_specialty'] = \"Missing\"\n"
   ]
  },
  {
   "cell_type": "code",
   "execution_count": 13,
   "metadata": {},
   "outputs": [
    {
     "name": "stdout",
     "output_type": "stream",
     "text": [
      "Payer Code:\n",
      "Null values: 30048\n",
      "Correct values: 46276\n",
      "P% null issue left: 39.37 %\n",
      "\n",
      "Weight Breakdown:\n",
      "Null values: 73935\n",
      "Correct values: 2389\n",
      "P% null issue left: 96.87 %\n"
     ]
    }
   ],
   "source": [
    "#Drop payer Code & weight on the bases of missing values\n",
    "print(\"Payer Code:\")\n",
    "\n",
    "index_null_pcode = data_train_explore[(data_train_explore['payer_code'] == '?')]\n",
    "index_notnull_pcode = data_train_explore[~(data_train_explore['payer_code'] == '?')]\n",
    "\n",
    "print('Null values:', len(index_null_pcode))\n",
    "print('Correct values:', len(index_notnull_pcode))\n",
    "\n",
    "print('P% null issue left:', round(len(index_null_pcode)/len(final)*100,2),\"%\")\n",
    "print(\"\")\n",
    "print(\"Weight Breakdown:\")\n",
    "\n",
    "index_null_wei = data_train_explore[(data_train_explore['weight'] == '?')]\n",
    "index_notnull_wei = data_train_explore[~(data_train_explore['weight'] == '?')]\n",
    "\n",
    "print('Null values:', len(index_null_wei))\n",
    "print('Correct values:', len(index_notnull_wei))\n",
    "\n",
    "print('P% null issue left:', round(len(index_null_wei)/len(final)*100,2),\"%\")\n"
   ]
  },
  {
   "cell_type": "markdown",
   "metadata": {},
   "source": [
    "Conclusion - Weight & Payer Code needs to be dropped due to majority null values"
   ]
  },
  {
   "cell_type": "code",
   "execution_count": 14,
   "metadata": {},
   "outputs": [
    {
     "name": "stdout",
     "output_type": "stream",
     "text": [
      "Examide Medicine:\n",
      "No    76324\n",
      "Name: examide, dtype: int64\n",
      "\n",
      "Citoglipton Medicine:\n",
      "No    76324\n",
      "Name: citoglipton, dtype: int64\n"
     ]
    }
   ],
   "source": [
    "#Drop these column on the bases of single class values\n",
    "print(\"Examide Medicine:\")\n",
    "print(pd.value_counts(data_train_explore.examide))\n",
    "print(\"\")\n",
    "print(\"Citoglipton Medicine:\")\n",
    "print(pd.value_counts(data_train_explore.citoglipton))"
   ]
  },
  {
   "cell_type": "markdown",
   "metadata": {},
   "source": [
    "Conclusion - Medicine assignment of Citoglipton & Examide needs to be dropped due to single attribute type existance"
   ]
  },
  {
   "cell_type": "code",
   "execution_count": 15,
   "metadata": {},
   "outputs": [
    {
     "name": "stdout",
     "output_type": "stream",
     "text": [
      "Admission Source:\n",
      "Null values: 5252\n",
      "Correct values: 71072\n",
      "P% null issue left: 6.88 %\n"
     ]
    }
   ],
   "source": [
    "print(\"Admission Source:\")\n",
    "\n",
    "index_null_admin_src = data_train_explore[(data_train_explore['admission_source_id'] == 9) | (data_train_explore['admission_source_id'] == 15) | (data_train_explore['admission_source_id'] == 17)|(data_train_explore['admission_source_id'] == 20) | (data_train_explore['admission_source_id'] == 21)]\n",
    "index_notnull_admin_src = data_train_explore[~((data_train_explore['admission_source_id'] == 9) | (data_train_explore['admission_source_id'] == 15) | (data_train_explore['admission_source_id'] == 17)|(data_train_explore['admission_source_id'] == 20) | (data_train_explore['admission_source_id'] == 21))]\n",
    "\n",
    "print('Null values:', len(index_null_admin_src))\n",
    "print('Correct values:', len(index_notnull_admin_src))\n",
    "\n",
    "print('P% null issue left:', round(len(index_null_admin_src)/len(final)*100,2),\"%\")\n"
   ]
  },
  {
   "cell_type": "code",
   "execution_count": 16,
   "metadata": {},
   "outputs": [
    {
     "name": "stdout",
     "output_type": "stream",
     "text": [
      "Admission type Breakdown:\n",
      "Null values: 7731\n",
      "Correct values: 68593\n",
      "P% null issue left: 10.13 %\n"
     ]
    }
   ],
   "source": [
    "#[1, Emergency] [2, Urgent] [3, Elective] [4, Newborn] [7, Trauma Center]\n",
    "#[5, Not Avaliable] [6, Null] [8, Not Mapped]\n",
    "\n",
    "print(\"Admission type Breakdown:\")\n",
    "index_null_admin = data_train_explore[(data_train_explore['admission_type_id'] == 6) | (data_train_explore['admission_type_id'] == 5) | (data_train_explore['admission_type_id'] == 8) ]\n",
    "index_notnull_admin = data_train_explore[~((data_train_explore['admission_type_id'] == 6) | (data_train_explore['admission_type_id'] == 5) | (data_train_explore['admission_type_id'] == 8))]\n",
    "\n",
    "print('Null values:', len(index_null_admin))\n",
    "print('Correct values:', len(index_notnull_admin))\n",
    "\n",
    "print('P% null issue left:', round(len(index_null_admin)/len(final)*100,2),\"%\")"
   ]
  },
  {
   "cell_type": "code",
   "execution_count": 17,
   "metadata": {},
   "outputs": [
    {
     "name": "stdout",
     "output_type": "stream",
     "text": [
      "Discharge Disposition:\n",
      "1     45166\n",
      "3     10497\n",
      "6     9708 \n",
      "18    2783 \n",
      "2     1559 \n",
      "22    1506 \n",
      "11    1197 \n",
      "5     900  \n",
      "25    732  \n",
      "4     588  \n",
      "7     466  \n",
      "23    325  \n",
      "13    296  \n",
      "14    280  \n",
      "28    108  \n",
      "8     81   \n",
      "15    50   \n",
      "24    33   \n",
      "9     16   \n",
      "16    7    \n",
      "17    6    \n",
      "19    5    \n",
      "10    5    \n",
      "27    5    \n",
      "12    3    \n",
      "20    2    \n",
      "Name: discharge_disposition_id, dtype: int64\n",
      "Null values: 3515\n",
      "Correct values: 72809\n",
      "P% null issue left: 4.61 %\n"
     ]
    }
   ],
   "source": [
    "print(\"Discharge Disposition:\")\n",
    "print(pd.value_counts(data_train_explore.discharge_disposition_id))\n",
    "index_null_dis = data_train_explore[(data_train_explore['discharge_disposition_id'] == 18) | (data_train_explore['discharge_disposition_id'] == 25) | (data_train_explore['discharge_disposition_id'] == 26) ]\n",
    "index_notnull_dis = data_train_explore[~((data_train_explore['discharge_disposition_id'] == 18) | (data_train_explore['discharge_disposition_id'] == 25) | (data_train_explore['discharge_disposition_id'] == 26))]\n",
    "\n",
    "print('Null values:', len(index_null_dis))\n",
    "print('Correct values:', len(index_notnull_dis))\n",
    "\n",
    "print('P% null issue left:', round(len(index_null_dis)/len(final)*100,2),\"%\")"
   ]
  },
  {
   "cell_type": "code",
   "execution_count": 18,
   "metadata": {},
   "outputs": [
    {
     "name": "stdout",
     "output_type": "stream",
     "text": [
      "Race Breakdown:\n",
      "Caucasian          56938\n",
      "AfricanAmerican    14519\n",
      "?                  1708 \n",
      "Hispanic           1518 \n",
      "Other              1160 \n",
      "Asian              481  \n",
      "Name: race, dtype: int64\n",
      "\n",
      "Null values: 1708\n",
      "Correct values: 74616\n",
      "P% null issue left: 2.24 %\n"
     ]
    }
   ],
   "source": [
    "print(\"Race Breakdown:\")\n",
    "print(pd.value_counts(data_train_explore.race))\n",
    "index_null_race = data_train_explore[(data_train_explore['race'] == '?')]\n",
    "index_notnull_race = data_train_explore[~(data_train_explore['race'] == '?')]\n",
    "print(\"\")\n",
    "print('Null values:', len(index_null_race))\n",
    "print('Correct values:', len(index_notnull_race))\n",
    "\n",
    "print('P% null issue left:', round(len(index_null_race)/len(final)*100,2),\"%\")"
   ]
  },
  {
   "cell_type": "code",
   "execution_count": 19,
   "metadata": {},
   "outputs": [
    {
     "name": "stdout",
     "output_type": "stream",
     "text": [
      "Gender Breakdown:\n",
      "Female             41008\n",
      "Male               35313\n",
      "Unknown/Invalid    3    \n",
      "Name: gender, dtype: int64\n",
      "\n",
      "Null values: 3\n",
      "Correct values: 76321\n",
      "P% null issue left: 0.0039 %\n"
     ]
    }
   ],
   "source": [
    "print(\"Gender Breakdown:\")\n",
    "print(pd.value_counts(data_train_explore.gender))\n",
    "index_null_gen = data_train_explore[(data_train_explore['gender'] == 'Unknown/Invalid')]\n",
    "index_notnull_gen = data_train_explore[~(data_train_explore['gender'] == 'Unknown/Invalid')]\n",
    "print(\"\")\n",
    "print('Null values:', len(index_null_gen))\n",
    "print('Correct values:', len(index_notnull_gen))\n",
    "\n",
    "print('P% null issue left:', round(len(index_null_gen)/len(final)*100,4),\"%\")\n",
    "#Drop null value rows due to minimial count"
   ]
  },
  {
   "cell_type": "code",
   "execution_count": 20,
   "metadata": {},
   "outputs": [
    {
     "name": "stdout",
     "output_type": "stream",
     "text": [
      "Age Breakdown:\n"
     ]
    },
    {
     "data": {
      "text/plain": [
       "[70-80)     19473\n",
       "[60-70)     16772\n",
       "[50-60)     13056\n",
       "[80-90)     12870\n",
       "[40-50)     7331 \n",
       "[30-40)     2821 \n",
       "[90-100)    2128 \n",
       "[20-30)     1252 \n",
       "[10-20)     501  \n",
       "[0-10)      120  \n",
       "Name: age, dtype: int64"
      ]
     },
     "execution_count": 20,
     "metadata": {},
     "output_type": "execute_result"
    }
   ],
   "source": [
    "# Smaller groups need to be grouped together\n",
    "print(\"Age Breakdown:\")\n",
    "pd.value_counts(data_train_explore.age)"
   ]
  },
  {
   "cell_type": "markdown",
   "metadata": {},
   "source": [
    "## Pre-processing of Dataset (Train & Test)"
   ]
  },
  {
   "cell_type": "code",
   "execution_count": 21,
   "metadata": {},
   "outputs": [
    {
     "data": {
      "text/html": [
       "<div>\n",
       "<style scoped>\n",
       "    .dataframe tbody tr th:only-of-type {\n",
       "        vertical-align: middle;\n",
       "    }\n",
       "\n",
       "    .dataframe tbody tr th {\n",
       "        vertical-align: top;\n",
       "    }\n",
       "\n",
       "    .dataframe thead th {\n",
       "        text-align: right;\n",
       "    }\n",
       "</style>\n",
       "<table border=\"1\" class=\"dataframe\">\n",
       "  <thead>\n",
       "    <tr style=\"text-align: right;\">\n",
       "      <th></th>\n",
       "      <th>Unnamed: 0</th>\n",
       "      <th>encounter_id</th>\n",
       "      <th>patient_nbr</th>\n",
       "      <th>race</th>\n",
       "      <th>gender</th>\n",
       "      <th>age</th>\n",
       "      <th>weight</th>\n",
       "      <th>admission_type_id</th>\n",
       "      <th>discharge_disposition_id</th>\n",
       "      <th>admission_source_id</th>\n",
       "      <th>time_in_hospital</th>\n",
       "      <th>payer_code</th>\n",
       "      <th>medical_specialty</th>\n",
       "      <th>num_lab_procedures</th>\n",
       "      <th>num_procedures</th>\n",
       "      <th>num_medications</th>\n",
       "      <th>number_outpatient</th>\n",
       "      <th>number_emergency</th>\n",
       "      <th>number_inpatient</th>\n",
       "      <th>diag_1</th>\n",
       "      <th>diag_2</th>\n",
       "      <th>diag_3</th>\n",
       "      <th>number_diagnoses</th>\n",
       "      <th>max_glu_serum</th>\n",
       "      <th>A1Cresult</th>\n",
       "      <th>metformin</th>\n",
       "      <th>repaglinide</th>\n",
       "      <th>nateglinide</th>\n",
       "      <th>chlorpropamide</th>\n",
       "      <th>glimepiride</th>\n",
       "      <th>acetohexamide</th>\n",
       "      <th>glipizide</th>\n",
       "      <th>glyburide</th>\n",
       "      <th>tolbutamide</th>\n",
       "      <th>pioglitazone</th>\n",
       "      <th>rosiglitazone</th>\n",
       "      <th>acarbose</th>\n",
       "      <th>miglitol</th>\n",
       "      <th>troglitazone</th>\n",
       "      <th>tolazamide</th>\n",
       "      <th>examide</th>\n",
       "      <th>citoglipton</th>\n",
       "      <th>insulin</th>\n",
       "      <th>glyburide-metformin</th>\n",
       "      <th>glipizide-metformin</th>\n",
       "      <th>glimepiride-pioglitazone</th>\n",
       "      <th>metformin-rosiglitazone</th>\n",
       "      <th>metformin-pioglitazone</th>\n",
       "      <th>change</th>\n",
       "      <th>diabetesMed</th>\n",
       "      <th>readmitted</th>\n",
       "      <th>dataset_type</th>\n",
       "    </tr>\n",
       "  </thead>\n",
       "  <tbody>\n",
       "    <tr>\n",
       "      <th>25440</th>\n",
       "      <td>11421</td>\n",
       "      <td>47282550</td>\n",
       "      <td>8819190</td>\n",
       "      <td>Caucasian</td>\n",
       "      <td>Male</td>\n",
       "      <td>[70-80)</td>\n",
       "      <td>?</td>\n",
       "      <td>1</td>\n",
       "      <td>18</td>\n",
       "      <td>7</td>\n",
       "      <td>8</td>\n",
       "      <td>?</td>\n",
       "      <td>?</td>\n",
       "      <td>51</td>\n",
       "      <td>0</td>\n",
       "      <td>16</td>\n",
       "      <td>0</td>\n",
       "      <td>0</td>\n",
       "      <td>0</td>\n",
       "      <td>410</td>\n",
       "      <td>584</td>\n",
       "      <td>276</td>\n",
       "      <td>8</td>\n",
       "      <td>None</td>\n",
       "      <td>None</td>\n",
       "      <td>No</td>\n",
       "      <td>No</td>\n",
       "      <td>No</td>\n",
       "      <td>No</td>\n",
       "      <td>No</td>\n",
       "      <td>No</td>\n",
       "      <td>No</td>\n",
       "      <td>No</td>\n",
       "      <td>No</td>\n",
       "      <td>No</td>\n",
       "      <td>No</td>\n",
       "      <td>No</td>\n",
       "      <td>No</td>\n",
       "      <td>No</td>\n",
       "      <td>No</td>\n",
       "      <td>No</td>\n",
       "      <td>No</td>\n",
       "      <td>Up</td>\n",
       "      <td>No</td>\n",
       "      <td>No</td>\n",
       "      <td>No</td>\n",
       "      <td>No</td>\n",
       "      <td>No</td>\n",
       "      <td>Ch</td>\n",
       "      <td>Yes</td>\n",
       "      <td>NO</td>\n",
       "      <td>test</td>\n",
       "    </tr>\n",
       "    <tr>\n",
       "      <th>25441</th>\n",
       "      <td>52819</td>\n",
       "      <td>155779584</td>\n",
       "      <td>87812100</td>\n",
       "      <td>AfricanAmerican</td>\n",
       "      <td>Female</td>\n",
       "      <td>[50-60)</td>\n",
       "      <td>?</td>\n",
       "      <td>1</td>\n",
       "      <td>1</td>\n",
       "      <td>7</td>\n",
       "      <td>8</td>\n",
       "      <td>DM</td>\n",
       "      <td>?</td>\n",
       "      <td>58</td>\n",
       "      <td>1</td>\n",
       "      <td>9</td>\n",
       "      <td>0</td>\n",
       "      <td>0</td>\n",
       "      <td>1</td>\n",
       "      <td>996</td>\n",
       "      <td>403</td>\n",
       "      <td>38</td>\n",
       "      <td>9</td>\n",
       "      <td>None</td>\n",
       "      <td>None</td>\n",
       "      <td>Steady</td>\n",
       "      <td>No</td>\n",
       "      <td>No</td>\n",
       "      <td>No</td>\n",
       "      <td>No</td>\n",
       "      <td>No</td>\n",
       "      <td>No</td>\n",
       "      <td>No</td>\n",
       "      <td>No</td>\n",
       "      <td>No</td>\n",
       "      <td>No</td>\n",
       "      <td>No</td>\n",
       "      <td>No</td>\n",
       "      <td>No</td>\n",
       "      <td>No</td>\n",
       "      <td>No</td>\n",
       "      <td>No</td>\n",
       "      <td>Steady</td>\n",
       "      <td>No</td>\n",
       "      <td>No</td>\n",
       "      <td>No</td>\n",
       "      <td>No</td>\n",
       "      <td>No</td>\n",
       "      <td>Ch</td>\n",
       "      <td>Yes</td>\n",
       "      <td>&gt;30</td>\n",
       "      <td>test</td>\n",
       "    </tr>\n",
       "  </tbody>\n",
       "</table>\n",
       "</div>"
      ],
      "text/plain": [
       "       Unnamed: 0  encounter_id  patient_nbr             race  gender  \\\n",
       "25440  11421       47282550      8819190      Caucasian        Male     \n",
       "25441  52819       155779584     87812100     AfricanAmerican  Female   \n",
       "\n",
       "           age weight  admission_type_id  discharge_disposition_id  \\\n",
       "25440  [70-80)  ?      1                  18                         \n",
       "25441  [50-60)  ?      1                  1                          \n",
       "\n",
       "       admission_source_id  time_in_hospital payer_code medical_specialty  \\\n",
       "25440  7                    8                 ?          ?                  \n",
       "25441  7                    8                 DM         ?                  \n",
       "\n",
       "       num_lab_procedures  num_procedures  num_medications  number_outpatient  \\\n",
       "25440  51                  0               16               0                   \n",
       "25441  58                  1               9                0                   \n",
       "\n",
       "       number_emergency  number_inpatient diag_1 diag_2 diag_3  \\\n",
       "25440  0                 0                 410    584    276     \n",
       "25441  0                 1                 996    403    38      \n",
       "\n",
       "       number_diagnoses max_glu_serum A1Cresult metformin repaglinide  \\\n",
       "25440  8                 None          None      No        No           \n",
       "25441  9                 None          None      Steady    No           \n",
       "\n",
       "      nateglinide chlorpropamide glimepiride acetohexamide glipizide  \\\n",
       "25440  No          No             No          No            No         \n",
       "25441  No          No             No          No            No         \n",
       "\n",
       "      glyburide tolbutamide pioglitazone rosiglitazone acarbose miglitol  \\\n",
       "25440  No        No          No           No            No       No        \n",
       "25441  No        No          No           No            No       No        \n",
       "\n",
       "      troglitazone tolazamide examide citoglipton insulin glyburide-metformin  \\\n",
       "25440  No           No         No      No          Up      No                   \n",
       "25441  No           No         No      No          Steady  No                   \n",
       "\n",
       "      glipizide-metformin glimepiride-pioglitazone metformin-rosiglitazone  \\\n",
       "25440  No                  No                       No                       \n",
       "25441  No                  No                       No                       \n",
       "\n",
       "      metformin-pioglitazone change diabetesMed readmitted dataset_type  \n",
       "25440  No                     Ch     Yes         NO         test         \n",
       "25441  No                     Ch     Yes         >30        test         "
      ]
     },
     "execution_count": 21,
     "metadata": {},
     "output_type": "execute_result"
    }
   ],
   "source": [
    "data_train = pd.read_csv(path_file_data_train)\n",
    "data_test = pd.read_csv(path_file_data_test)\n",
    "data_test['dataset_type'] = 'test'\n",
    "data_train['dataset_type'] = 'train'\n",
    "list_dataframes = [data_train,data_test]\n",
    "data = pd.concat(list_dataframes)\n",
    "\n",
    "data.tail(2)"
   ]
  },
  {
   "cell_type": "markdown",
   "metadata": {},
   "source": [
    "### Null Value Corrections of Feature Set"
   ]
  },
  {
   "cell_type": "markdown",
   "metadata": {},
   "source": [
    "#### Column: Admission Source"
   ]
  },
  {
   "cell_type": "markdown",
   "metadata": {},
   "source": [
    "- Correction Step: Grouped Missing Values under a single ID"
   ]
  },
  {
   "cell_type": "code",
   "execution_count": 22,
   "metadata": {},
   "outputs": [],
   "source": [
    "#Null Value Handling by grouping null value categories and outlier value\n",
    "data.loc[(data.admission_source_id == 15) |  (data.admission_source_id == 9) | (data.admission_source_id == 17) | (data.admission_source_id == 20)| (data.admission_source_id == 21),'admission_source_id'] = -99"
   ]
  },
  {
   "cell_type": "markdown",
   "metadata": {},
   "source": [
    "#### Column: Admission Type"
   ]
  },
  {
   "cell_type": "markdown",
   "metadata": {},
   "source": [
    "- Correction Step: Grouped Missing Values under a single ID"
   ]
  },
  {
   "cell_type": "code",
   "execution_count": 23,
   "metadata": {},
   "outputs": [],
   "source": [
    "#Null Value Handling by grouping null value categories and outlier value\n",
    "data.loc[(data.admission_type_id == 6) |  (data.admission_type_id == 5) | (data.admission_type_id == 8) ,'admission_type_id'] = -99"
   ]
  },
  {
   "cell_type": "markdown",
   "metadata": {},
   "source": [
    "#### Column: Discharge Disposition"
   ]
  },
  {
   "cell_type": "markdown",
   "metadata": {},
   "source": [
    "- Correction Step: Grouped Missing Values under a single ID"
   ]
  },
  {
   "cell_type": "code",
   "execution_count": 24,
   "metadata": {},
   "outputs": [],
   "source": [
    "#Null Value Handling by grouping null value categories and assigning an ID\n",
    "data.loc[(data.discharge_disposition_id == 18) |  (data.discharge_disposition_id == 25) | (data.discharge_disposition_id == 26) ,'discharge_disposition_id'] = 0"
   ]
  },
  {
   "cell_type": "markdown",
   "metadata": {},
   "source": [
    "#### Column: Race"
   ]
  },
  {
   "cell_type": "markdown",
   "metadata": {},
   "source": [
    "- Correction Step: Replacing Null category with Mode value of the feature set ( Mode = Caucasian)"
   ]
  },
  {
   "cell_type": "code",
   "execution_count": 25,
   "metadata": {},
   "outputs": [
    {
     "name": "stdout",
     "output_type": "stream",
     "text": [
      "Caucasian\n"
     ]
    }
   ],
   "source": [
    "#Replacing missing values with mode \n",
    "data.loc[(data.race == '?') ,'race'] = st.mode(data['race'])\n",
    "print(st.mode(data['race']))"
   ]
  },
  {
   "cell_type": "markdown",
   "metadata": {},
   "source": [
    "#### Column: Gender"
   ]
  },
  {
   "cell_type": "markdown",
   "metadata": {},
   "source": [
    "- Correction Step: Remove the Gender rows with unknown values since they account to 3 only"
   ]
  },
  {
   "cell_type": "code",
   "execution_count": 26,
   "metadata": {},
   "outputs": [
    {
     "data": {
      "text/plain": [
       "(101763, 52)"
      ]
     },
     "execution_count": 26,
     "metadata": {},
     "output_type": "execute_result"
    }
   ],
   "source": [
    "#Null Value Handling by dropping rows\n",
    "data = data[~(data['gender'] == 'Unknown/Invalid')]\n",
    "data.shape"
   ]
  },
  {
   "cell_type": "markdown",
   "metadata": {},
   "source": [
    "### Modifications of Features Set"
   ]
  },
  {
   "cell_type": "markdown",
   "metadata": {},
   "source": [
    "#### Columns: A1Cresult, max_glu_serum, Change (Medicine Changes column), Admission Type ID & Age"
   ]
  },
  {
   "cell_type": "markdown",
   "metadata": {},
   "source": [
    "- Improvement Step: Grouping & Encoding for generalisated categories"
   ]
  },
  {
   "cell_type": "code",
   "execution_count": 27,
   "metadata": {},
   "outputs": [],
   "source": [
    "#A1Cresult\n",
    "# (1 is >7 & >8) & (0 is Normal ) & (-99 is Missing values) - (>7 and 8 combined due to similar outcomes with the patients) \n",
    "data.loc[(data.A1Cresult == \">7\"),'A1Cresult'] = 1\n",
    "data.loc[(data.A1Cresult == \">8\"),'A1Cresult'] = 1\n",
    "data.loc[(data.A1Cresult == \"Norm\"),'A1Cresult'] = 0\n",
    "data.loc[(data.A1Cresult == \"None\"),'A1Cresult'] = -99\n",
    "\n",
    "#max_glu_serum\n",
    "# (1 is >200 & >300) & (0 is Normal ) & (-99 is Missing values) - (>200 and 300 combined due to similar outcomes with the patients high glu_srum)\n",
    "data.loc[(data.max_glu_serum == \">200\"),'max_glu_serum'] = 1\n",
    "data.loc[(data.max_glu_serum == \">300\"),'max_glu_serum'] = 1\n",
    "data.loc[(data.max_glu_serum == \"Norm\"),'max_glu_serum'] = 0\n",
    "data.loc[(data.max_glu_serum == \"None\"),'max_glu_serum'] = -99\n",
    "\n",
    "#Change Column\n",
    "# (1 has been changed) & (0 is Med not changed)\n",
    "data.loc[(data.change == \"No\"),'change'] = 0\n",
    "data.loc[(data.change == \"Ch\"),'change'] = 1\n",
    "\n",
    "# #diabetesMed - Better to ONE HOT ENCODE\n",
    "# # (Diabetes Medication given 1) & (Diabetes Medication given 0)\n",
    "# data.loc[(data.diabetesMed == \"No\"),'diabetesMed'] = 0\n",
    "# data.loc[(data.diabetesMed == \"Yes\"),'diabetesMed'] = 1\n",
    "\n",
    "#Admission Type ID Column\n",
    "# (Critical - 3) & (Elective - 1) & (Newborn - 2) & (Missing values - 99) - Grouping likewise categories and assigning values accordng to importance, missing value also given an outlier id\n",
    "data.loc[(data.admission_type_id == 1) |  (data.admission_type_id == 2) | (data.admission_type_id == 7),'admission_type_id'] = 3\n",
    "data.loc[(data.admission_type_id == 3),'admission_type_id'] = 1\n",
    "data.loc[(data.admission_type_id == 0),'admission_type_id'] = -99\n",
    "data.loc[(data.admission_type_id == 4),'admission_type_id'] = 2\n",
    "\n",
    "#Age Column - Age categories by modify group range t0 [0-50], [0-40] group didnt perform well when compared to [0-50] category in model predictions.\n",
    " \n",
    "#data.loc[(data['age'] == '[0-10)') | (data['age'] == '[10-20)')| (data['age'] == '[20-30)')| (data['age'] == '[30-40)'),'age'] = '[0-40)'  \n",
    "data.loc[(data['age'] == '[0-10)') | (data['age'] == '[10-20)')| (data['age'] == '[20-30)')| (data['age'] == '[30-40)')| (data['age'] == '[40-50)'),'age'] = '[0-50)' \n",
    "data.loc[(data['age'] == '[80-90)') | (data['age'] == '[90-100)'),'age'] = '[80-100)' \n",
    "\n",
    "data['change'] = data['change'].astype(float)\n",
    "data['max_glu_serum'] = data['max_glu_serum'].astype(float)\n",
    "data['A1Cresult'] = data['A1Cresult'].astype(float)"
   ]
  },
  {
   "cell_type": "markdown",
   "metadata": {},
   "source": [
    "#### Columns: Diagnosis Columns 1,2,3 Transformation and Groupings"
   ]
  },
  {
   "cell_type": "code",
   "execution_count": 28,
   "metadata": {},
   "outputs": [],
   "source": [
    "#Diagnosis Column\n",
    "# This function is used to map the coded Three digit values to form important understandable group categories to generalise the model. \n",
    "# The diag_1,2,3 columns held alot of variance and where unsuitable to be added to the models, hence this function manages this problem.\n",
    "data.loc[(data.diag_1 == \"?\") ,'diag_1'] = 'NAN'\n",
    "data.loc[(data.diag_2 == \"?\") ,'diag_2'] = 'NAN'\n",
    "data.loc[(data.diag_3 == \"?\") ,'diag_3'] = 'NAN'\n",
    "\n",
    "diag_list = ['diag_1','diag_2','diag_3']\n",
    "\n",
    "\n",
    "import re\n",
    "def transformFunc(value):\n",
    "    value = re.sub(\"V[0-9]*\", \"0\", value) # V \n",
    "    value = re.sub(\"E[0-9]*\", \"0\", value) # E \n",
    "    value = re.sub('NAN', \"-1\", value) # Nan\n",
    "    return value \n",
    "    \n",
    "def transformDiagnosis(value):\n",
    "    if value>=390 and value<=459 or value==785:\n",
    "        category = 'Circulatory'\n",
    "    elif value>=460 and value<=519 or value==786:\n",
    "        category = 'Respiratory'\n",
    "    elif value>=520 and value<=579 or value==787:\n",
    "        category = 'Digestive'\n",
    "    elif value==250:\n",
    "        category = 'Diabetes'\n",
    "    elif value>=800 and value<=999:\n",
    "        category = 'Injury'          \n",
    "    elif value>=710 and value<=739:\n",
    "        category = 'Musculoskeletal'   \n",
    "    elif value>=580 and value<=629 or value==788:\n",
    "        category = 'Genitourinary'\n",
    "    elif value>=140 and value<=239 :\n",
    "        category = 'Neoplasms'\n",
    "    elif value==-1:\n",
    "        category = 'NAN'\n",
    "    else :\n",
    "        category = 'Other'\n",
    "\n",
    "    return category\n",
    "\n",
    "for col in diag_list:\n",
    "    data[col] = data[col].apply(transformFunc)\n",
    "    data[col] = data[col].astype(float)\n",
    "\n",
    "for col in diag_list:\n",
    "    data[col] = data[col].apply(transformDiagnosis)"
   ]
  },
  {
   "cell_type": "markdown",
   "metadata": {},
   "source": [
    "### Encoding of Columns"
   ]
  },
  {
   "cell_type": "markdown",
   "metadata": {},
   "source": [
    "\n",
    "\n",
    "<b> Summary: </b> The techniques utlised in this process are:\n",
    "- Label Encoding\n",
    "- OneHot Encoding\n",
    "- Rule based Encoding - (Self assigning of values to the categories of columns)"
   ]
  },
  {
   "cell_type": "code",
   "execution_count": 29,
   "metadata": {},
   "outputs": [],
   "source": [
    "pro_data = data.copy()"
   ]
  },
  {
   "cell_type": "code",
   "execution_count": 30,
   "metadata": {},
   "outputs": [],
   "source": [
    "# Label Encoder of Catergorical Columns\n",
    "\n",
    "#Majority of the columns have been Label or Ordinal Encoded, to ensure the some form of coorelation b/w categories based on Ordinality especially as Medicine and age, columns\n",
    "from sklearn import preprocessing\n",
    "lab_encoder = preprocessing.LabelEncoder()\n",
    "\n",
    "encode_list = ['metformin', 'repaglinide', 'nateglinide', 'chlorpropamide',\n",
    "       'glimepiride', 'acetohexamide', 'glipizide', 'glyburide', 'tolbutamide',\n",
    "       'pioglitazone', 'rosiglitazone', 'acarbose', 'miglitol', 'troglitazone',\n",
    "       'tolazamide', 'insulin', 'glyburide-metformin', 'glipizide-metformin',\n",
    "       'glimepiride-pioglitazone', 'metformin-rosiglitazone',\n",
    "       'metformin-pioglitazone','diag_1','diag_2','diag_3','medical_specialty','age']\n",
    "\n",
    "def enc(a,df):\n",
    "    for i in range(0,len(a)):\n",
    "        df[a[i]]= lab_encoder.fit_transform(df[a[i]])\n",
    "    return df\n",
    "\n",
    "pro_data = enc(encode_list,pro_data)"
   ]
  },
  {
   "cell_type": "code",
   "execution_count": 31,
   "metadata": {},
   "outputs": [
    {
     "data": {
      "text/html": [
       "<div>\n",
       "<style scoped>\n",
       "    .dataframe tbody tr th:only-of-type {\n",
       "        vertical-align: middle;\n",
       "    }\n",
       "\n",
       "    .dataframe tbody tr th {\n",
       "        vertical-align: top;\n",
       "    }\n",
       "\n",
       "    .dataframe thead th {\n",
       "        text-align: right;\n",
       "    }\n",
       "</style>\n",
       "<table border=\"1\" class=\"dataframe\">\n",
       "  <thead>\n",
       "    <tr style=\"text-align: right;\">\n",
       "      <th></th>\n",
       "      <th>Unnamed: 0</th>\n",
       "      <th>encounter_id</th>\n",
       "      <th>patient_nbr</th>\n",
       "      <th>race</th>\n",
       "      <th>gender</th>\n",
       "      <th>age</th>\n",
       "      <th>weight</th>\n",
       "      <th>admission_type_id</th>\n",
       "      <th>discharge_disposition_id</th>\n",
       "      <th>admission_source_id</th>\n",
       "      <th>time_in_hospital</th>\n",
       "      <th>payer_code</th>\n",
       "      <th>medical_specialty</th>\n",
       "      <th>num_lab_procedures</th>\n",
       "      <th>num_procedures</th>\n",
       "      <th>num_medications</th>\n",
       "      <th>number_outpatient</th>\n",
       "      <th>number_emergency</th>\n",
       "      <th>number_inpatient</th>\n",
       "      <th>diag_1</th>\n",
       "      <th>diag_2</th>\n",
       "      <th>diag_3</th>\n",
       "      <th>number_diagnoses</th>\n",
       "      <th>max_glu_serum</th>\n",
       "      <th>A1Cresult</th>\n",
       "      <th>metformin</th>\n",
       "      <th>repaglinide</th>\n",
       "      <th>nateglinide</th>\n",
       "      <th>chlorpropamide</th>\n",
       "      <th>glimepiride</th>\n",
       "      <th>acetohexamide</th>\n",
       "      <th>glipizide</th>\n",
       "      <th>glyburide</th>\n",
       "      <th>tolbutamide</th>\n",
       "      <th>pioglitazone</th>\n",
       "      <th>rosiglitazone</th>\n",
       "      <th>acarbose</th>\n",
       "      <th>miglitol</th>\n",
       "      <th>troglitazone</th>\n",
       "      <th>tolazamide</th>\n",
       "      <th>examide</th>\n",
       "      <th>citoglipton</th>\n",
       "      <th>insulin</th>\n",
       "      <th>glyburide-metformin</th>\n",
       "      <th>glipizide-metformin</th>\n",
       "      <th>glimepiride-pioglitazone</th>\n",
       "      <th>metformin-rosiglitazone</th>\n",
       "      <th>metformin-pioglitazone</th>\n",
       "      <th>change</th>\n",
       "      <th>diabetesMed</th>\n",
       "      <th>readmitted</th>\n",
       "      <th>dataset_type</th>\n",
       "    </tr>\n",
       "  </thead>\n",
       "  <tbody>\n",
       "    <tr>\n",
       "      <th>0</th>\n",
       "      <td>93634</td>\n",
       "      <td>338369606</td>\n",
       "      <td>159605546</td>\n",
       "      <td>AfricanAmerican</td>\n",
       "      <td>Male</td>\n",
       "      <td>3</td>\n",
       "      <td>?</td>\n",
       "      <td>1</td>\n",
       "      <td>23</td>\n",
       "      <td>7</td>\n",
       "      <td>3</td>\n",
       "      <td>MC</td>\n",
       "      <td>0</td>\n",
       "      <td>63</td>\n",
       "      <td>0</td>\n",
       "      <td>7</td>\n",
       "      <td>0</td>\n",
       "      <td>0</td>\n",
       "      <td>0</td>\n",
       "      <td>8</td>\n",
       "      <td>8</td>\n",
       "      <td>6</td>\n",
       "      <td>8</td>\n",
       "      <td>-99.0</td>\n",
       "      <td>-99.0</td>\n",
       "      <td>1</td>\n",
       "      <td>1</td>\n",
       "      <td>1</td>\n",
       "      <td>1</td>\n",
       "      <td>1</td>\n",
       "      <td>0</td>\n",
       "      <td>1</td>\n",
       "      <td>1</td>\n",
       "      <td>0</td>\n",
       "      <td>1</td>\n",
       "      <td>1</td>\n",
       "      <td>1</td>\n",
       "      <td>1</td>\n",
       "      <td>0</td>\n",
       "      <td>0</td>\n",
       "      <td>No</td>\n",
       "      <td>No</td>\n",
       "      <td>1</td>\n",
       "      <td>1</td>\n",
       "      <td>0</td>\n",
       "      <td>0</td>\n",
       "      <td>0</td>\n",
       "      <td>0</td>\n",
       "      <td>0.0</td>\n",
       "      <td>No</td>\n",
       "      <td>NO</td>\n",
       "      <td>train</td>\n",
       "    </tr>\n",
       "    <tr>\n",
       "      <th>1</th>\n",
       "      <td>27698</td>\n",
       "      <td>90739116</td>\n",
       "      <td>83232054</td>\n",
       "      <td>Caucasian</td>\n",
       "      <td>Female</td>\n",
       "      <td>3</td>\n",
       "      <td>[75-100)</td>\n",
       "      <td>1</td>\n",
       "      <td>1</td>\n",
       "      <td>1</td>\n",
       "      <td>1</td>\n",
       "      <td>MC</td>\n",
       "      <td>4</td>\n",
       "      <td>54</td>\n",
       "      <td>6</td>\n",
       "      <td>8</td>\n",
       "      <td>0</td>\n",
       "      <td>0</td>\n",
       "      <td>0</td>\n",
       "      <td>0</td>\n",
       "      <td>0</td>\n",
       "      <td>4</td>\n",
       "      <td>6</td>\n",
       "      <td>-99.0</td>\n",
       "      <td>-99.0</td>\n",
       "      <td>1</td>\n",
       "      <td>1</td>\n",
       "      <td>1</td>\n",
       "      <td>1</td>\n",
       "      <td>1</td>\n",
       "      <td>0</td>\n",
       "      <td>1</td>\n",
       "      <td>1</td>\n",
       "      <td>0</td>\n",
       "      <td>1</td>\n",
       "      <td>1</td>\n",
       "      <td>1</td>\n",
       "      <td>1</td>\n",
       "      <td>0</td>\n",
       "      <td>0</td>\n",
       "      <td>No</td>\n",
       "      <td>No</td>\n",
       "      <td>1</td>\n",
       "      <td>1</td>\n",
       "      <td>0</td>\n",
       "      <td>0</td>\n",
       "      <td>0</td>\n",
       "      <td>0</td>\n",
       "      <td>0.0</td>\n",
       "      <td>No</td>\n",
       "      <td>NO</td>\n",
       "      <td>train</td>\n",
       "    </tr>\n",
       "  </tbody>\n",
       "</table>\n",
       "</div>"
      ],
      "text/plain": [
       "   Unnamed: 0  encounter_id  patient_nbr             race  gender  age  \\\n",
       "0  93634       338369606     159605546    AfricanAmerican  Male    3     \n",
       "1  27698       90739116      83232054     Caucasian        Female  3     \n",
       "\n",
       "     weight  admission_type_id  discharge_disposition_id  admission_source_id  \\\n",
       "0  ?         1                  23                        7                     \n",
       "1  [75-100)  1                  1                         1                     \n",
       "\n",
       "   time_in_hospital payer_code  medical_specialty  num_lab_procedures  \\\n",
       "0  3                 MC         0                  63                   \n",
       "1  1                 MC         4                  54                   \n",
       "\n",
       "   num_procedures  num_medications  number_outpatient  number_emergency  \\\n",
       "0  0               7                0                  0                  \n",
       "1  6               8                0                  0                  \n",
       "\n",
       "   number_inpatient  diag_1  diag_2  diag_3  number_diagnoses  max_glu_serum  \\\n",
       "0  0                 8       8       6       8                -99.0            \n",
       "1  0                 0       0       4       6                -99.0            \n",
       "\n",
       "   A1Cresult  metformin  repaglinide  nateglinide  chlorpropamide  \\\n",
       "0 -99.0       1          1            1            1                \n",
       "1 -99.0       1          1            1            1                \n",
       "\n",
       "   glimepiride  acetohexamide  glipizide  glyburide  tolbutamide  \\\n",
       "0  1            0              1          1          0             \n",
       "1  1            0              1          1          0             \n",
       "\n",
       "   pioglitazone  rosiglitazone  acarbose  miglitol  troglitazone  tolazamide  \\\n",
       "0  1             1              1         1         0             0            \n",
       "1  1             1              1         1         0             0            \n",
       "\n",
       "  examide citoglipton  insulin  glyburide-metformin  glipizide-metformin  \\\n",
       "0  No      No          1        1                    0                     \n",
       "1  No      No          1        1                    0                     \n",
       "\n",
       "   glimepiride-pioglitazone  metformin-rosiglitazone  metformin-pioglitazone  \\\n",
       "0  0                         0                        0                        \n",
       "1  0                         0                        0                        \n",
       "\n",
       "   change diabetesMed readmitted dataset_type  \n",
       "0  0.0     No          NO         train        \n",
       "1  0.0     No          NO         train        "
      ]
     },
     "execution_count": 31,
     "metadata": {},
     "output_type": "execute_result"
    }
   ],
   "source": [
    "pro_data.head(2)"
   ]
  },
  {
   "cell_type": "code",
   "execution_count": 32,
   "metadata": {},
   "outputs": [],
   "source": [
    "#One Hot Encoding of Categorical Columns\n",
    "#Race column categories didnt hold much relation b/w each other in terms of occurance hence choosen for One Hot Encoding. Gender and diabetesMed hold binary catergories hence chosen.\n",
    "col_list = ['gender','race','diabetesMed']\n",
    "prefix_list = ['gender_','race_','diabetesMed_']\n",
    "onehot = pd.get_dummies(pro_data, columns = col_list,  prefix=prefix_list)\n",
    "\n",
    "pro_data = pd.concat([onehot], axis=1)"
   ]
  },
  {
   "cell_type": "markdown",
   "metadata": {},
   "source": [
    "## Feature Selection"
   ]
  },
  {
   "cell_type": "code",
   "execution_count": 33,
   "metadata": {},
   "outputs": [
    {
     "data": {
      "text/html": [
       "<div>\n",
       "<style scoped>\n",
       "    .dataframe tbody tr th:only-of-type {\n",
       "        vertical-align: middle;\n",
       "    }\n",
       "\n",
       "    .dataframe tbody tr th {\n",
       "        vertical-align: top;\n",
       "    }\n",
       "\n",
       "    .dataframe thead th {\n",
       "        text-align: right;\n",
       "    }\n",
       "</style>\n",
       "<table border=\"1\" class=\"dataframe\">\n",
       "  <thead>\n",
       "    <tr style=\"text-align: right;\">\n",
       "      <th></th>\n",
       "      <th>Unnamed: 0</th>\n",
       "      <th>encounter_id</th>\n",
       "      <th>patient_nbr</th>\n",
       "      <th>age</th>\n",
       "      <th>weight</th>\n",
       "      <th>admission_type_id</th>\n",
       "      <th>discharge_disposition_id</th>\n",
       "      <th>admission_source_id</th>\n",
       "      <th>time_in_hospital</th>\n",
       "      <th>payer_code</th>\n",
       "      <th>medical_specialty</th>\n",
       "      <th>num_lab_procedures</th>\n",
       "      <th>num_procedures</th>\n",
       "      <th>num_medications</th>\n",
       "      <th>number_outpatient</th>\n",
       "      <th>number_emergency</th>\n",
       "      <th>number_inpatient</th>\n",
       "      <th>diag_1</th>\n",
       "      <th>diag_2</th>\n",
       "      <th>diag_3</th>\n",
       "      <th>number_diagnoses</th>\n",
       "      <th>max_glu_serum</th>\n",
       "      <th>A1Cresult</th>\n",
       "      <th>metformin</th>\n",
       "      <th>repaglinide</th>\n",
       "      <th>nateglinide</th>\n",
       "      <th>chlorpropamide</th>\n",
       "      <th>glimepiride</th>\n",
       "      <th>acetohexamide</th>\n",
       "      <th>glipizide</th>\n",
       "      <th>glyburide</th>\n",
       "      <th>tolbutamide</th>\n",
       "      <th>pioglitazone</th>\n",
       "      <th>rosiglitazone</th>\n",
       "      <th>acarbose</th>\n",
       "      <th>miglitol</th>\n",
       "      <th>troglitazone</th>\n",
       "      <th>tolazamide</th>\n",
       "      <th>examide</th>\n",
       "      <th>citoglipton</th>\n",
       "      <th>insulin</th>\n",
       "      <th>glyburide-metformin</th>\n",
       "      <th>glipizide-metformin</th>\n",
       "      <th>glimepiride-pioglitazone</th>\n",
       "      <th>metformin-rosiglitazone</th>\n",
       "      <th>metformin-pioglitazone</th>\n",
       "      <th>change</th>\n",
       "      <th>readmitted</th>\n",
       "      <th>dataset_type</th>\n",
       "      <th>gender__Female</th>\n",
       "      <th>gender__Male</th>\n",
       "      <th>race__AfricanAmerican</th>\n",
       "      <th>race__Asian</th>\n",
       "      <th>race__Caucasian</th>\n",
       "      <th>race__Hispanic</th>\n",
       "      <th>race__Other</th>\n",
       "      <th>diabetesMed__No</th>\n",
       "      <th>diabetesMed__Yes</th>\n",
       "    </tr>\n",
       "  </thead>\n",
       "  <tbody>\n",
       "    <tr>\n",
       "      <th>0</th>\n",
       "      <td>93634</td>\n",
       "      <td>338369606</td>\n",
       "      <td>159605546</td>\n",
       "      <td>3</td>\n",
       "      <td>?</td>\n",
       "      <td>1</td>\n",
       "      <td>23</td>\n",
       "      <td>7</td>\n",
       "      <td>3</td>\n",
       "      <td>MC</td>\n",
       "      <td>0</td>\n",
       "      <td>63</td>\n",
       "      <td>0</td>\n",
       "      <td>7</td>\n",
       "      <td>0</td>\n",
       "      <td>0</td>\n",
       "      <td>0</td>\n",
       "      <td>8</td>\n",
       "      <td>8</td>\n",
       "      <td>6</td>\n",
       "      <td>8</td>\n",
       "      <td>-99.0</td>\n",
       "      <td>-99.0</td>\n",
       "      <td>1</td>\n",
       "      <td>1</td>\n",
       "      <td>1</td>\n",
       "      <td>1</td>\n",
       "      <td>1</td>\n",
       "      <td>0</td>\n",
       "      <td>1</td>\n",
       "      <td>1</td>\n",
       "      <td>0</td>\n",
       "      <td>1</td>\n",
       "      <td>1</td>\n",
       "      <td>1</td>\n",
       "      <td>1</td>\n",
       "      <td>0</td>\n",
       "      <td>0</td>\n",
       "      <td>No</td>\n",
       "      <td>No</td>\n",
       "      <td>1</td>\n",
       "      <td>1</td>\n",
       "      <td>0</td>\n",
       "      <td>0</td>\n",
       "      <td>0</td>\n",
       "      <td>0</td>\n",
       "      <td>0.0</td>\n",
       "      <td>NO</td>\n",
       "      <td>train</td>\n",
       "      <td>0</td>\n",
       "      <td>1</td>\n",
       "      <td>1</td>\n",
       "      <td>0</td>\n",
       "      <td>0</td>\n",
       "      <td>0</td>\n",
       "      <td>0</td>\n",
       "      <td>1</td>\n",
       "      <td>0</td>\n",
       "    </tr>\n",
       "    <tr>\n",
       "      <th>1</th>\n",
       "      <td>27698</td>\n",
       "      <td>90739116</td>\n",
       "      <td>83232054</td>\n",
       "      <td>3</td>\n",
       "      <td>[75-100)</td>\n",
       "      <td>1</td>\n",
       "      <td>1</td>\n",
       "      <td>1</td>\n",
       "      <td>1</td>\n",
       "      <td>MC</td>\n",
       "      <td>4</td>\n",
       "      <td>54</td>\n",
       "      <td>6</td>\n",
       "      <td>8</td>\n",
       "      <td>0</td>\n",
       "      <td>0</td>\n",
       "      <td>0</td>\n",
       "      <td>0</td>\n",
       "      <td>0</td>\n",
       "      <td>4</td>\n",
       "      <td>6</td>\n",
       "      <td>-99.0</td>\n",
       "      <td>-99.0</td>\n",
       "      <td>1</td>\n",
       "      <td>1</td>\n",
       "      <td>1</td>\n",
       "      <td>1</td>\n",
       "      <td>1</td>\n",
       "      <td>0</td>\n",
       "      <td>1</td>\n",
       "      <td>1</td>\n",
       "      <td>0</td>\n",
       "      <td>1</td>\n",
       "      <td>1</td>\n",
       "      <td>1</td>\n",
       "      <td>1</td>\n",
       "      <td>0</td>\n",
       "      <td>0</td>\n",
       "      <td>No</td>\n",
       "      <td>No</td>\n",
       "      <td>1</td>\n",
       "      <td>1</td>\n",
       "      <td>0</td>\n",
       "      <td>0</td>\n",
       "      <td>0</td>\n",
       "      <td>0</td>\n",
       "      <td>0.0</td>\n",
       "      <td>NO</td>\n",
       "      <td>train</td>\n",
       "      <td>1</td>\n",
       "      <td>0</td>\n",
       "      <td>0</td>\n",
       "      <td>0</td>\n",
       "      <td>1</td>\n",
       "      <td>0</td>\n",
       "      <td>0</td>\n",
       "      <td>1</td>\n",
       "      <td>0</td>\n",
       "    </tr>\n",
       "    <tr>\n",
       "      <th>2</th>\n",
       "      <td>17488</td>\n",
       "      <td>64286964</td>\n",
       "      <td>95117913</td>\n",
       "      <td>2</td>\n",
       "      <td>?</td>\n",
       "      <td>1</td>\n",
       "      <td>1</td>\n",
       "      <td>1</td>\n",
       "      <td>4</td>\n",
       "      <td>?</td>\n",
       "      <td>0</td>\n",
       "      <td>51</td>\n",
       "      <td>1</td>\n",
       "      <td>19</td>\n",
       "      <td>0</td>\n",
       "      <td>0</td>\n",
       "      <td>0</td>\n",
       "      <td>9</td>\n",
       "      <td>1</td>\n",
       "      <td>2</td>\n",
       "      <td>4</td>\n",
       "      <td>-99.0</td>\n",
       "      <td>-99.0</td>\n",
       "      <td>3</td>\n",
       "      <td>1</td>\n",
       "      <td>1</td>\n",
       "      <td>1</td>\n",
       "      <td>1</td>\n",
       "      <td>0</td>\n",
       "      <td>1</td>\n",
       "      <td>2</td>\n",
       "      <td>0</td>\n",
       "      <td>2</td>\n",
       "      <td>1</td>\n",
       "      <td>1</td>\n",
       "      <td>1</td>\n",
       "      <td>0</td>\n",
       "      <td>0</td>\n",
       "      <td>No</td>\n",
       "      <td>No</td>\n",
       "      <td>1</td>\n",
       "      <td>1</td>\n",
       "      <td>0</td>\n",
       "      <td>0</td>\n",
       "      <td>0</td>\n",
       "      <td>0</td>\n",
       "      <td>1.0</td>\n",
       "      <td>&gt;30</td>\n",
       "      <td>train</td>\n",
       "      <td>0</td>\n",
       "      <td>1</td>\n",
       "      <td>0</td>\n",
       "      <td>0</td>\n",
       "      <td>1</td>\n",
       "      <td>0</td>\n",
       "      <td>0</td>\n",
       "      <td>0</td>\n",
       "      <td>1</td>\n",
       "    </tr>\n",
       "    <tr>\n",
       "      <th>3</th>\n",
       "      <td>96510</td>\n",
       "      <td>376610012</td>\n",
       "      <td>136697972</td>\n",
       "      <td>0</td>\n",
       "      <td>?</td>\n",
       "      <td>1</td>\n",
       "      <td>1</td>\n",
       "      <td>1</td>\n",
       "      <td>2</td>\n",
       "      <td>BC</td>\n",
       "      <td>0</td>\n",
       "      <td>16</td>\n",
       "      <td>0</td>\n",
       "      <td>7</td>\n",
       "      <td>0</td>\n",
       "      <td>0</td>\n",
       "      <td>0</td>\n",
       "      <td>2</td>\n",
       "      <td>5</td>\n",
       "      <td>0</td>\n",
       "      <td>5</td>\n",
       "      <td>-99.0</td>\n",
       "      <td>-99.0</td>\n",
       "      <td>1</td>\n",
       "      <td>1</td>\n",
       "      <td>1</td>\n",
       "      <td>1</td>\n",
       "      <td>1</td>\n",
       "      <td>0</td>\n",
       "      <td>1</td>\n",
       "      <td>1</td>\n",
       "      <td>0</td>\n",
       "      <td>1</td>\n",
       "      <td>1</td>\n",
       "      <td>1</td>\n",
       "      <td>1</td>\n",
       "      <td>0</td>\n",
       "      <td>0</td>\n",
       "      <td>No</td>\n",
       "      <td>No</td>\n",
       "      <td>1</td>\n",
       "      <td>1</td>\n",
       "      <td>0</td>\n",
       "      <td>0</td>\n",
       "      <td>0</td>\n",
       "      <td>0</td>\n",
       "      <td>0.0</td>\n",
       "      <td>NO</td>\n",
       "      <td>train</td>\n",
       "      <td>0</td>\n",
       "      <td>1</td>\n",
       "      <td>1</td>\n",
       "      <td>0</td>\n",
       "      <td>0</td>\n",
       "      <td>0</td>\n",
       "      <td>0</td>\n",
       "      <td>1</td>\n",
       "      <td>0</td>\n",
       "    </tr>\n",
       "    <tr>\n",
       "      <th>4</th>\n",
       "      <td>35774</td>\n",
       "      <td>110557278</td>\n",
       "      <td>2851308</td>\n",
       "      <td>4</td>\n",
       "      <td>?</td>\n",
       "      <td>1</td>\n",
       "      <td>1</td>\n",
       "      <td>6</td>\n",
       "      <td>1</td>\n",
       "      <td>MC</td>\n",
       "      <td>12</td>\n",
       "      <td>64</td>\n",
       "      <td>0</td>\n",
       "      <td>3</td>\n",
       "      <td>0</td>\n",
       "      <td>0</td>\n",
       "      <td>0</td>\n",
       "      <td>8</td>\n",
       "      <td>1</td>\n",
       "      <td>0</td>\n",
       "      <td>5</td>\n",
       "      <td>-99.0</td>\n",
       "      <td>0.0</td>\n",
       "      <td>1</td>\n",
       "      <td>1</td>\n",
       "      <td>1</td>\n",
       "      <td>1</td>\n",
       "      <td>1</td>\n",
       "      <td>0</td>\n",
       "      <td>1</td>\n",
       "      <td>1</td>\n",
       "      <td>0</td>\n",
       "      <td>1</td>\n",
       "      <td>1</td>\n",
       "      <td>1</td>\n",
       "      <td>1</td>\n",
       "      <td>0</td>\n",
       "      <td>0</td>\n",
       "      <td>No</td>\n",
       "      <td>No</td>\n",
       "      <td>1</td>\n",
       "      <td>1</td>\n",
       "      <td>0</td>\n",
       "      <td>0</td>\n",
       "      <td>0</td>\n",
       "      <td>0</td>\n",
       "      <td>0.0</td>\n",
       "      <td>NO</td>\n",
       "      <td>train</td>\n",
       "      <td>0</td>\n",
       "      <td>1</td>\n",
       "      <td>0</td>\n",
       "      <td>0</td>\n",
       "      <td>1</td>\n",
       "      <td>0</td>\n",
       "      <td>0</td>\n",
       "      <td>1</td>\n",
       "      <td>0</td>\n",
       "    </tr>\n",
       "  </tbody>\n",
       "</table>\n",
       "</div>"
      ],
      "text/plain": [
       "   Unnamed: 0  encounter_id  patient_nbr  age    weight  admission_type_id  \\\n",
       "0  93634       338369606     159605546    3    ?         1                   \n",
       "1  27698       90739116      83232054     3    [75-100)  1                   \n",
       "2  17488       64286964      95117913     2    ?         1                   \n",
       "3  96510       376610012     136697972    0    ?         1                   \n",
       "4  35774       110557278     2851308      4    ?         1                   \n",
       "\n",
       "   discharge_disposition_id  admission_source_id  time_in_hospital payer_code  \\\n",
       "0  23                        7                    3                 MC          \n",
       "1  1                         1                    1                 MC          \n",
       "2  1                         1                    4                 ?           \n",
       "3  1                         1                    2                 BC          \n",
       "4  1                         6                    1                 MC          \n",
       "\n",
       "   medical_specialty  num_lab_procedures  num_procedures  num_medications  \\\n",
       "0  0                  63                  0               7                 \n",
       "1  4                  54                  6               8                 \n",
       "2  0                  51                  1               19                \n",
       "3  0                  16                  0               7                 \n",
       "4  12                 64                  0               3                 \n",
       "\n",
       "   number_outpatient  number_emergency  number_inpatient  diag_1  diag_2  \\\n",
       "0  0                  0                 0                 8       8        \n",
       "1  0                  0                 0                 0       0        \n",
       "2  0                  0                 0                 9       1        \n",
       "3  0                  0                 0                 2       5        \n",
       "4  0                  0                 0                 8       1        \n",
       "\n",
       "   diag_3  number_diagnoses  max_glu_serum  A1Cresult  metformin  repaglinide  \\\n",
       "0  6       8                -99.0          -99.0       1          1             \n",
       "1  4       6                -99.0          -99.0       1          1             \n",
       "2  2       4                -99.0          -99.0       3          1             \n",
       "3  0       5                -99.0          -99.0       1          1             \n",
       "4  0       5                -99.0           0.0        1          1             \n",
       "\n",
       "   nateglinide  chlorpropamide  glimepiride  acetohexamide  glipizide  \\\n",
       "0  1            1               1            0              1           \n",
       "1  1            1               1            0              1           \n",
       "2  1            1               1            0              1           \n",
       "3  1            1               1            0              1           \n",
       "4  1            1               1            0              1           \n",
       "\n",
       "   glyburide  tolbutamide  pioglitazone  rosiglitazone  acarbose  miglitol  \\\n",
       "0  1          0            1             1              1         1          \n",
       "1  1          0            1             1              1         1          \n",
       "2  2          0            2             1              1         1          \n",
       "3  1          0            1             1              1         1          \n",
       "4  1          0            1             1              1         1          \n",
       "\n",
       "   troglitazone  tolazamide examide citoglipton  insulin  glyburide-metformin  \\\n",
       "0  0             0           No      No          1        1                     \n",
       "1  0             0           No      No          1        1                     \n",
       "2  0             0           No      No          1        1                     \n",
       "3  0             0           No      No          1        1                     \n",
       "4  0             0           No      No          1        1                     \n",
       "\n",
       "   glipizide-metformin  glimepiride-pioglitazone  metformin-rosiglitazone  \\\n",
       "0  0                    0                         0                         \n",
       "1  0                    0                         0                         \n",
       "2  0                    0                         0                         \n",
       "3  0                    0                         0                         \n",
       "4  0                    0                         0                         \n",
       "\n",
       "   metformin-pioglitazone  change readmitted dataset_type  gender__Female  \\\n",
       "0  0                       0.0     NO         train        0                \n",
       "1  0                       0.0     NO         train        1                \n",
       "2  0                       1.0     >30        train        0                \n",
       "3  0                       0.0     NO         train        0                \n",
       "4  0                       0.0     NO         train        0                \n",
       "\n",
       "   gender__Male  race__AfricanAmerican  race__Asian  race__Caucasian  \\\n",
       "0  1             1                      0            0                 \n",
       "1  0             0                      0            1                 \n",
       "2  1             0                      0            1                 \n",
       "3  1             1                      0            0                 \n",
       "4  1             0                      0            1                 \n",
       "\n",
       "   race__Hispanic  race__Other  diabetesMed__No  diabetesMed__Yes  \n",
       "0  0               0            1                0                 \n",
       "1  0               0            1                0                 \n",
       "2  0               0            0                1                 \n",
       "3  0               0            1                0                 \n",
       "4  0               0            1                0                 "
      ]
     },
     "execution_count": 33,
     "metadata": {},
     "output_type": "execute_result"
    }
   ],
   "source": [
    "pro_data.head()"
   ]
  },
  {
   "cell_type": "code",
   "execution_count": 34,
   "metadata": {},
   "outputs": [
    {
     "data": {
      "text/plain": [
       "Index(['Unnamed: 0', 'encounter_id', 'patient_nbr', 'age', 'weight',\n",
       "       'admission_type_id', 'discharge_disposition_id', 'admission_source_id',\n",
       "       'time_in_hospital', 'payer_code', 'medical_specialty',\n",
       "       'num_lab_procedures', 'num_procedures', 'num_medications',\n",
       "       'number_outpatient', 'number_emergency', 'number_inpatient', 'diag_1',\n",
       "       'diag_2', 'diag_3', 'number_diagnoses', 'max_glu_serum', 'A1Cresult',\n",
       "       'metformin', 'repaglinide', 'nateglinide', 'chlorpropamide',\n",
       "       'glimepiride', 'acetohexamide', 'glipizide', 'glyburide', 'tolbutamide',\n",
       "       'pioglitazone', 'rosiglitazone', 'acarbose', 'miglitol', 'troglitazone',\n",
       "       'tolazamide', 'examide', 'citoglipton', 'insulin',\n",
       "       'glyburide-metformin', 'glipizide-metformin',\n",
       "       'glimepiride-pioglitazone', 'metformin-rosiglitazone',\n",
       "       'metformin-pioglitazone', 'change', 'readmitted', 'dataset_type',\n",
       "       'gender__Female', 'gender__Male', 'race__AfricanAmerican',\n",
       "       'race__Asian', 'race__Caucasian', 'race__Hispanic', 'race__Other',\n",
       "       'diabetesMed__No', 'diabetesMed__Yes'],\n",
       "      dtype='object')"
      ]
     },
     "execution_count": 34,
     "metadata": {},
     "output_type": "execute_result"
    }
   ],
   "source": [
    "pro_data.columns"
   ]
  },
  {
   "cell_type": "markdown",
   "metadata": {},
   "source": [
    "#### The following columns need to be dropped with specified reasons:\n",
    "1. Examide - Due to single category type existance in the attribute\n",
    "2. Citoglipton - Due to single category type existance in the attribute\n",
    "3. Weight - Due to majority null values \n",
    "4. Payer Code - Due to majority null values \n",
    "5. Unnamed: 0 - No value addition, duplicated created in file loading\n",
    "6. encounter_id - No value addition to the dataset, given each value is unique for a visit "
   ]
  },
  {
   "cell_type": "code",
   "execution_count": 35,
   "metadata": {},
   "outputs": [
    {
     "data": {
      "text/plain": [
       "(101763, 58)"
      ]
     },
     "execution_count": 35,
     "metadata": {},
     "output_type": "execute_result"
    }
   ],
   "source": [
    "pro_data.shape"
   ]
  },
  {
   "cell_type": "code",
   "execution_count": 36,
   "metadata": {},
   "outputs": [],
   "source": [
    "list_drop_initial_1 = ['examide','citoglipton','weight','payer_code','Unnamed: 0','encounter_id']\n",
    "pro_data.drop(list_drop_initial_1, axis = 1, inplace = True)"
   ]
  },
  {
   "cell_type": "code",
   "execution_count": 37,
   "metadata": {},
   "outputs": [
    {
     "data": {
      "text/plain": [
       "(101763, 52)"
      ]
     },
     "execution_count": 37,
     "metadata": {},
     "output_type": "execute_result"
    }
   ],
   "source": [
    "pro_data.shape"
   ]
  },
  {
   "cell_type": "code",
   "execution_count": 38,
   "metadata": {},
   "outputs": [
    {
     "data": {
      "text/html": [
       "<div>\n",
       "<style scoped>\n",
       "    .dataframe tbody tr th:only-of-type {\n",
       "        vertical-align: middle;\n",
       "    }\n",
       "\n",
       "    .dataframe tbody tr th {\n",
       "        vertical-align: top;\n",
       "    }\n",
       "\n",
       "    .dataframe thead th {\n",
       "        text-align: right;\n",
       "    }\n",
       "</style>\n",
       "<table border=\"1\" class=\"dataframe\">\n",
       "  <thead>\n",
       "    <tr style=\"text-align: right;\">\n",
       "      <th></th>\n",
       "      <th>patient_nbr</th>\n",
       "      <th>age</th>\n",
       "      <th>admission_type_id</th>\n",
       "      <th>discharge_disposition_id</th>\n",
       "      <th>admission_source_id</th>\n",
       "      <th>time_in_hospital</th>\n",
       "      <th>medical_specialty</th>\n",
       "      <th>num_lab_procedures</th>\n",
       "      <th>num_procedures</th>\n",
       "      <th>num_medications</th>\n",
       "      <th>number_outpatient</th>\n",
       "      <th>number_emergency</th>\n",
       "      <th>number_inpatient</th>\n",
       "      <th>diag_1</th>\n",
       "      <th>diag_2</th>\n",
       "      <th>diag_3</th>\n",
       "      <th>number_diagnoses</th>\n",
       "      <th>max_glu_serum</th>\n",
       "      <th>A1Cresult</th>\n",
       "      <th>metformin</th>\n",
       "      <th>repaglinide</th>\n",
       "      <th>nateglinide</th>\n",
       "      <th>chlorpropamide</th>\n",
       "      <th>glimepiride</th>\n",
       "      <th>acetohexamide</th>\n",
       "      <th>glipizide</th>\n",
       "      <th>glyburide</th>\n",
       "      <th>tolbutamide</th>\n",
       "      <th>pioglitazone</th>\n",
       "      <th>rosiglitazone</th>\n",
       "      <th>acarbose</th>\n",
       "      <th>miglitol</th>\n",
       "      <th>troglitazone</th>\n",
       "      <th>tolazamide</th>\n",
       "      <th>insulin</th>\n",
       "      <th>glyburide-metformin</th>\n",
       "      <th>glipizide-metformin</th>\n",
       "      <th>glimepiride-pioglitazone</th>\n",
       "      <th>metformin-rosiglitazone</th>\n",
       "      <th>metformin-pioglitazone</th>\n",
       "      <th>change</th>\n",
       "      <th>readmitted</th>\n",
       "      <th>dataset_type</th>\n",
       "      <th>gender__Female</th>\n",
       "      <th>gender__Male</th>\n",
       "      <th>race__AfricanAmerican</th>\n",
       "      <th>race__Asian</th>\n",
       "      <th>race__Caucasian</th>\n",
       "      <th>race__Hispanic</th>\n",
       "      <th>race__Other</th>\n",
       "      <th>diabetesMed__No</th>\n",
       "      <th>diabetesMed__Yes</th>\n",
       "    </tr>\n",
       "  </thead>\n",
       "  <tbody>\n",
       "    <tr>\n",
       "      <th>0</th>\n",
       "      <td>159605546</td>\n",
       "      <td>3</td>\n",
       "      <td>1</td>\n",
       "      <td>23</td>\n",
       "      <td>7</td>\n",
       "      <td>3</td>\n",
       "      <td>0</td>\n",
       "      <td>63</td>\n",
       "      <td>0</td>\n",
       "      <td>7</td>\n",
       "      <td>0</td>\n",
       "      <td>0</td>\n",
       "      <td>0</td>\n",
       "      <td>8</td>\n",
       "      <td>8</td>\n",
       "      <td>6</td>\n",
       "      <td>8</td>\n",
       "      <td>-99.0</td>\n",
       "      <td>-99.0</td>\n",
       "      <td>1</td>\n",
       "      <td>1</td>\n",
       "      <td>1</td>\n",
       "      <td>1</td>\n",
       "      <td>1</td>\n",
       "      <td>0</td>\n",
       "      <td>1</td>\n",
       "      <td>1</td>\n",
       "      <td>0</td>\n",
       "      <td>1</td>\n",
       "      <td>1</td>\n",
       "      <td>1</td>\n",
       "      <td>1</td>\n",
       "      <td>0</td>\n",
       "      <td>0</td>\n",
       "      <td>1</td>\n",
       "      <td>1</td>\n",
       "      <td>0</td>\n",
       "      <td>0</td>\n",
       "      <td>0</td>\n",
       "      <td>0</td>\n",
       "      <td>0.0</td>\n",
       "      <td>NO</td>\n",
       "      <td>train</td>\n",
       "      <td>0</td>\n",
       "      <td>1</td>\n",
       "      <td>1</td>\n",
       "      <td>0</td>\n",
       "      <td>0</td>\n",
       "      <td>0</td>\n",
       "      <td>0</td>\n",
       "      <td>1</td>\n",
       "      <td>0</td>\n",
       "    </tr>\n",
       "  </tbody>\n",
       "</table>\n",
       "</div>"
      ],
      "text/plain": [
       "   patient_nbr  age  admission_type_id  discharge_disposition_id  \\\n",
       "0  159605546    3    1                  23                         \n",
       "\n",
       "   admission_source_id  time_in_hospital  medical_specialty  \\\n",
       "0  7                    3                 0                   \n",
       "\n",
       "   num_lab_procedures  num_procedures  num_medications  number_outpatient  \\\n",
       "0  63                  0               7                0                   \n",
       "\n",
       "   number_emergency  number_inpatient  diag_1  diag_2  diag_3  \\\n",
       "0  0                 0                 8       8       6        \n",
       "\n",
       "   number_diagnoses  max_glu_serum  A1Cresult  metformin  repaglinide  \\\n",
       "0  8                -99.0          -99.0       1          1             \n",
       "\n",
       "   nateglinide  chlorpropamide  glimepiride  acetohexamide  glipizide  \\\n",
       "0  1            1               1            0              1           \n",
       "\n",
       "   glyburide  tolbutamide  pioglitazone  rosiglitazone  acarbose  miglitol  \\\n",
       "0  1          0            1             1              1         1          \n",
       "\n",
       "   troglitazone  tolazamide  insulin  glyburide-metformin  \\\n",
       "0  0             0           1        1                     \n",
       "\n",
       "   glipizide-metformin  glimepiride-pioglitazone  metformin-rosiglitazone  \\\n",
       "0  0                    0                         0                         \n",
       "\n",
       "   metformin-pioglitazone  change readmitted dataset_type  gender__Female  \\\n",
       "0  0                       0.0     NO         train        0                \n",
       "\n",
       "   gender__Male  race__AfricanAmerican  race__Asian  race__Caucasian  \\\n",
       "0  1             1                      0            0                 \n",
       "\n",
       "   race__Hispanic  race__Other  diabetesMed__No  diabetesMed__Yes  \n",
       "0  0               0            1                0                 "
      ]
     },
     "execution_count": 38,
     "metadata": {},
     "output_type": "execute_result"
    }
   ],
   "source": [
    "pro_data.head(1)"
   ]
  },
  {
   "cell_type": "code",
   "execution_count": 39,
   "metadata": {},
   "outputs": [
    {
     "name": "stdout",
     "output_type": "stream",
     "text": [
      " Multi-Class Label:\n",
      "NO     54861\n",
      ">30    35545\n",
      "<30    11357\n",
      "Name: readmitted, dtype: int64\n",
      "\n",
      " Binary-Class Label:\n",
      "Target class (<30 is label 1) & (No and >30 is 0)\n",
      "1    90406\n",
      "0    11357\n",
      "Name: Target, dtype: int64\n"
     ]
    }
   ],
   "source": [
    "#Creation of Binary Target Class for Binary Classification\n",
    "print(\" Multi-Class Label:\")\n",
    "print(pd.value_counts(pro_data.readmitted))\n",
    "pro_data['Target']= np.where(pro_data.readmitted == \"<30\",0,1)\n",
    "#pro_data.drop('readmitted', axis = 1, inplace = True)\n",
    "print(\"\")\n",
    "print(\" Binary-Class Label:\")\n",
    "print(\"Target class (<30 is label 1) & (No and >30 is 0)\")\n",
    "print(pd.value_counts(pro_data.Target))"
   ]
  },
  {
   "cell_type": "code",
   "execution_count": 40,
   "metadata": {},
   "outputs": [
    {
     "name": "stdout",
     "output_type": "stream",
     "text": [
      "Method 1 (RFECV) - Best Features Selection:\n",
      "Features selected:  40\n",
      "40\n",
      "['age', 'admission_type_id', 'discharge_disposition_id', 'admission_source_id', 'medical_specialty', 'num_procedures', 'number_outpatient', 'number_emergency', 'number_inpatient', 'diag_1', 'diag_2', 'diag_3', 'max_glu_serum', 'A1Cresult', 'metformin', 'repaglinide', 'glimepiride', 'acetohexamide', 'glipizide', 'glyburide', 'tolbutamide', 'pioglitazone', 'rosiglitazone', 'troglitazone', 'tolazamide', 'insulin', 'glipizide-metformin', 'glimepiride-pioglitazone', 'metformin-rosiglitazone', 'metformin-pioglitazone', 'change', 'gender__Female', 'gender__Male', 'race__AfricanAmerican', 'race__Asian', 'race__Caucasian', 'race__Hispanic', 'race__Other', 'diabetesMed__No', 'diabetesMed__Yes']\n",
      "\n",
      "Method 2 (LGBM) - Best Features Selection:\n",
      "['discharge_disposition_id', 'number_inpatient', 'medical_specialty', 'num_medications', 'num_lab_procedures', 'time_in_hospital', 'number_diagnoses', 'number_emergency', 'diag_1', 'age', 'diag_3', 'insulin', 'diag_2', 'diabetesMed__No', 'num_procedures', 'number_outpatient', 'A1Cresult', 'metformin', 'rosiglitazone', 'admission_source_id', 'glipizide', 'pioglitazone', 'glimepiride', 'admission_type_id', 'max_glu_serum']\n"
     ]
    },
    {
     "data": {
      "image/png": "[encoded data removed]",
      "text/plain": [
       "<Figure size 1296x720 with 1 Axes>"
      ]
     },
     "metadata": {
      "needs_background": "light"
     },
     "output_type": "display_data"
    }
   ],
   "source": [
    "#duplicates for patient ID are to be dropped only from the training set!\n",
    "\n",
    "train = pro_data[pro_data.dataset_type == 'train']\n",
    "list_drop_initial_3 = ['readmitted','dataset_type','patient_nbr']\n",
    "train.drop(list_drop_initial_3, axis = 1, inplace = True)\n",
    "\n",
    "feature_cols = []\n",
    "\n",
    "for c in train.columns:\n",
    "    if c in 'Target':\n",
    "        continue\n",
    "    feature_cols.append(c)\n",
    "\n",
    "train_x = train[feature_cols] # Features\n",
    "train_y = train.Target # Target attribute\n",
    "\n",
    "\n",
    "#Method 1 - RFECV uses the Bernoulli Navies Bayes to identify the best feature set since the majority of the data set is discrete.\n",
    "feat_selector = RFECV(estimator= BernoulliNB(), scoring='roc_auc')\n",
    "feat_selector.fit(train_x,train_y)\n",
    "print(\"Method 1 (RFECV) - Best Features Selection:\")\n",
    "print('Features selected: ',feat_selector.n_features_)\n",
    "selected_features = [f for f in train_x.columns[feat_selector.ranking_ == 1]]\n",
    "print(len(selected_features)) \n",
    "print(selected_features)\n",
    " \n",
    "#Method 2 - Feature Selection through LGBM works best for tree's creation where below our models selection are also tree based namely Decision Tree and Random Forest \n",
    "lgbm_model = LGBMClassifier(random_state = 42,max_depth=3)\n",
    "lgbm_model.fit(train_x, train_y)\n",
    "\n",
    "plt.rcParams[\"figure.figsize\"] = (18, 10)\n",
    "lgb.plot_importance(lgbm_model)\n",
    "\n",
    "feature_imp = pd.Series(lgbm_model.feature_importances_, index = train_x.columns)\n",
    "best_features = feature_imp.nlargest(25)\n",
    "best_features = best_features.index.to_list()\n",
    "print(\"\")\n",
    "print(\"Method 2 (LGBM) - Best Features Selection:\")\n",
    "print(best_features)"
   ]
  },
  {
   "cell_type": "markdown",
   "metadata": {},
   "source": [
    "#### Duplicates removal from training set"
   ]
  },
  {
   "cell_type": "code",
   "execution_count": 41,
   "metadata": {},
   "outputs": [],
   "source": [
    "#Removal of duplicates from train set for Model Performance improvement\n",
    "X_training = pro_data[pro_data.dataset_type == 'train']\n",
    "X_training.drop_duplicates(['patient_nbr'], inplace = True)\n",
    "\n",
    "X_training.drop(['readmitted','dataset_type'], axis = 1, inplace = True)"
   ]
  },
  {
   "cell_type": "markdown",
   "metadata": {},
   "source": [
    "### Training and Test Sets Formation "
   ]
  },
  {
   "cell_type": "code",
   "execution_count": 42,
   "metadata": {},
   "outputs": [
    {
     "name": "stdout",
     "output_type": "stream",
     "text": [
      "Train sets:\n",
      "(57148, 40)\n",
      "(57148, 1)\n",
      "Test sets:\n",
      "(25442, 40)\n",
      "(25442, 1)\n"
     ]
    }
   ],
   "source": [
    "#training and test dataset formation \n",
    "\n",
    "drop_list = ['Target','dataset_type']\n",
    "\n",
    "#Training sets\n",
    "y_train = pd.DataFrame()\n",
    "X_train = X_training.copy()\n",
    "y_train['Target'] = X_training['Target'].copy()\n",
    "\n",
    "#Method 1 features selection for training set - RFECV\n",
    "X_train = X_train[selected_features]\n",
    "\n",
    "#Method 2 features selection for training set - LGBM\n",
    "#X_train = X_train[best_features]\n",
    "\n",
    "\n",
    "#X_train.drop(drop_list, axis = 1, inplace = True)\n",
    "\n",
    "print('Train sets:')\n",
    "print(X_train.shape)\n",
    "print(y_train.shape)\n",
    "\n",
    "#Testing sets\n",
    "y_test = pd.DataFrame()\n",
    "X_test = pro_data[pro_data.dataset_type == 'test']\n",
    "\n",
    "y_test['Target'] = X_test['Target'].copy()\n",
    "\n",
    "#Method 1 features selection for training set - RFECV\n",
    "X_test = X_test[selected_features]\n",
    "\n",
    "#Method 2 features selection for training set - LGBM\n",
    "#X_test = X_test[best_features]\n",
    "\n",
    "#X_test.drop(drop_list, axis =1, inplace = True)\n",
    "\n",
    "print('Test sets:')\n",
    "print(X_test.shape)\n",
    "print(y_test.shape)"
   ]
  },
  {
   "cell_type": "markdown",
   "metadata": {},
   "source": [
    "#### Class Imbalance Resolution"
   ]
  },
  {
   "cell_type": "code",
   "execution_count": 43,
   "metadata": {},
   "outputs": [
    {
     "name": "stdout",
     "output_type": "stream",
     "text": [
      "1    52707\n",
      "0    4441 \n",
      "Name: Target, dtype: int64\n"
     ]
    }
   ],
   "source": [
    "#check for class imbalance\n",
    "print(pd.value_counts(y_train.Target))"
   ]
  },
  {
   "cell_type": "code",
   "execution_count": 44,
   "metadata": {},
   "outputs": [
    {
     "name": "stdout",
     "output_type": "stream",
     "text": [
      "1    52707\n",
      "0    4441 \n",
      "Name: Target, dtype: int64\n"
     ]
    }
   ],
   "source": [
    "#Resolve class imbalance method 1 OverSampling\n",
    "oversample = imblearn.over_sampling.SMOTE()\n",
    "# X_train, y_train = oversample.fit_resample(X_train, y_train)\n",
    "print(pd.value_counts(y_train.Target))"
   ]
  },
  {
   "cell_type": "code",
   "execution_count": 45,
   "metadata": {},
   "outputs": [
    {
     "name": "stdout",
     "output_type": "stream",
     "text": [
      "Class imbalance resolved!\n"
     ]
    }
   ],
   "source": [
    "#Resolve class imbalance method 2  \n",
    "from imblearn.combine import SMOTEENN\n",
    "smote_enn = SMOTEENN(random_state=0)\n",
    "X_train, y_train  = smote_enn.fit_resample(X_train, y_train)\n",
    "print(\"Class imbalance resolved!\")"
   ]
  },
  {
   "cell_type": "markdown",
   "metadata": {},
   "source": [
    "## Models Development & Evaluation"
   ]
  },
  {
   "cell_type": "markdown",
   "metadata": {},
   "source": [
    "#### Decision Tree Model"
   ]
  },
  {
   "cell_type": "code",
   "execution_count": 46,
   "metadata": {},
   "outputs": [
    {
     "name": "stdout",
     "output_type": "stream",
     "text": [
      "Accuracy with train set: 0.8351669128508125\n",
      "Accuracy with Test set: 0.7652307208552787\n",
      "Precision score: 0.8949368291061081\n",
      "Recall score: 0.8336061584745388\n",
      "F1 score: 0.8631834528254346\n",
      "Confusion Matrix:\n"
     ]
    },
    {
     "data": {
      "image/png": "[encoded data removed]",
      "text/plain": [
       "<Figure size 1296x720 with 2 Axes>"
      ]
     },
     "metadata": {
      "needs_background": "light"
     },
     "output_type": "display_data"
    }
   ],
   "source": [
    "#Creation of Decision Tree Classifier\n",
    "\n",
    "clf = DecisionTreeClassifier(criterion=\"entropy\", max_depth= 10, splitter='random')\n",
    "\n",
    "# Train RF Classifer\n",
    "clf = clf.fit(X_train,y_train)\n",
    "\n",
    "#Predict the response for training dataset\n",
    "y_pred_train = clf.predict(X_train)\n",
    "\n",
    "# Model Accuracy  for training set\n",
    "print(\"Accuracy with train set:\",metrics.accuracy_score(y_train, y_pred_train))\n",
    "\n",
    "#Predict the response for Test dataset\n",
    "y_pred_test = clf.predict(X_test)\n",
    "\n",
    "# Model Accuracy  for Test set\n",
    "print(\"Accuracy with Test set:\",metrics.accuracy_score(y_test, y_pred_test))\n",
    "\n",
    "print(\"Precision score:\",precision_score(y_test, y_pred_test))\n",
    "print(\"Recall score:\",recall_score(y_test, y_pred_test))\n",
    "print(\"F1 score:\",f1_score(y_test, y_pred_test))\n",
    "\n",
    "print(\"Confusion Matrix:\")\n",
    "cm = confusion_matrix(y_test, y_pred_test)\n",
    "cmd_obj = ConfusionMatrixDisplay(cm, display_labels=['>30 & None', '<30'])\n",
    "cmd_obj.plot()\n",
    "\n",
    "cmd_obj.ax_.set(title='Confusion Matrix')\n",
    "plt.show()"
   ]
  },
  {
   "cell_type": "code",
   "execution_count": 47,
   "metadata": {},
   "outputs": [
    {
     "name": "stdout",
     "output_type": "stream",
     "text": [
      "              precision    recall  f1-score   support\n",
      "\n",
      "           0       0.14      0.22      0.17      2839\n",
      "           1       0.89      0.83      0.86     22603\n",
      "\n",
      "    accuracy                           0.77     25442\n",
      "   macro avg       0.52      0.53      0.52     25442\n",
      "weighted avg       0.81      0.77      0.79     25442\n",
      "\n"
     ]
    }
   ],
   "source": [
    "#Classification report to check details of actual performacnce against class\n",
    "from sklearn.metrics import classification_report\n",
    "print(classification_report(y_test, y_pred_test))"
   ]
  },
  {
   "cell_type": "code",
   "execution_count": 48,
   "metadata": {},
   "outputs": [
    {
     "data": {
      "text/plain": [
       "Text(0, 0.5, 'Accuracy')"
      ]
     },
     "execution_count": 48,
     "metadata": {},
     "output_type": "execute_result"
    },
    {
     "data": {
      "image/png": "[encoded data removed]",
      "text/plain": [
       "<Figure size 720x432 with 1 Axes>"
      ]
     },
     "metadata": {
      "needs_background": "light"
     },
     "output_type": "display_data"
    }
   ],
   "source": [
    "### Limit max_depth\n",
    "\n",
    "# Iteration through different depth values to find the value that minimizes *validation* error. \n",
    "\n",
    "clfs = []\n",
    "\n",
    "max_depths = range (1,20)\n",
    "\n",
    "for max_depth in max_depths:\n",
    "    clf = DecisionTreeClassifier(max_depth=max_depth)\n",
    "    clf.fit(X_train, y_train)\n",
    "    clfs.append(clf)\n",
    "    \n",
    "# Lets find the one that has the maximum validation set accuracy\n",
    "\n",
    "acc_scores_test = [metrics.accuracy_score(y_test, clf.predict(X_test)) for clf in clfs]\n",
    "acc_scores_train = [metrics.accuracy_score(y_train, clf.predict(X_train)) for clf in clfs]\n",
    "\n",
    "plt.figure(figsize=(10,  6))\n",
    "plt.grid()\n",
    "plt.plot(max_depths[:-1], acc_scores_train[:-1], label = \"Training\")\n",
    "plt.plot(max_depths[:-1], acc_scores_test[:-1], label = \"Test\")\n",
    "\n",
    "plt.xlabel(\"Max Depth\")\n",
    "plt.ylabel(\"Accuracy\")"
   ]
  },
  {
   "cell_type": "code",
   "execution_count": 49,
   "metadata": {
    "scrolled": true
   },
   "outputs": [
    {
     "data": {
      "text/plain": [
       "<sklearn.metrics._plot.roc_curve.RocCurveDisplay at 0x1ab066a4be0>"
      ]
     },
     "execution_count": 49,
     "metadata": {},
     "output_type": "execute_result"
    },
    {
     "data": {
      "image/png": "[encoded data removed]",
      "text/plain": [
       "<Figure size 1296x720 with 1 Axes>"
      ]
     },
     "metadata": {
      "needs_background": "light"
     },
     "output_type": "display_data"
    }
   ],
   "source": [
    "roc_auc = roc_auc_score(y_test, clf.predict(X_test),)\n",
    "plot_roc_curve(clf, X_test, y_test,pos_label=0)"
   ]
  },
  {
   "cell_type": "markdown",
   "metadata": {},
   "source": [
    "#### Random Forest Model"
   ]
  },
  {
   "cell_type": "code",
   "execution_count": 51,
   "metadata": {},
   "outputs": [
    {
     "name": "stdout",
     "output_type": "stream",
     "text": [
      "Accuracy with train set: 0.9399704579025111\n",
      "Accuracy with Test set: 0.8559468595236224\n",
      "Precision score: 0.8929697875166003\n",
      "Recall score: 0.9519532805379817\n",
      "F1 score: 0.9215186620698516\n",
      "Confusion Matrix:\n"
     ]
    },
    {
     "data": {
      "image/png": "[encoded data removed]",
      "text/plain": [
       "<Figure size 1296x720 with 2 Axes>"
      ]
     },
     "metadata": {
      "needs_background": "light"
     },
     "output_type": "display_data"
    }
   ],
   "source": [
    "#Creation of Random Forest Classifier\n",
    "dclf = RandomForestClassifier(n_estimators = 1500, criterion = \"entropy\" , random_state = 42, max_depth= 15, max_features = 22)\n",
    "\n",
    "# Train RF Classifer\n",
    "dclf = dclf.fit(X_train,y_train)\n",
    "\n",
    "#Predict the response for training dataset\n",
    "y_pred_train = dclf.predict(X_train)\n",
    "\n",
    "\n",
    "# Model Accuracy  for training set\n",
    "print(\"Accuracy with train set:\",metrics.accuracy_score(y_train, y_pred_train))\n",
    "\n",
    "#Predict the response for Test dataset\n",
    "y_pred_test = dclf.predict(X_test)\n",
    "\n",
    "# Model Accuracy  for Test set\n",
    "print(\"Accuracy with Test set:\",metrics.accuracy_score(y_test, y_pred_test))\n",
    "\n",
    "print(\"Precision score:\",precision_score(y_test, y_pred_test))\n",
    "print(\"Recall score:\",recall_score(y_test, y_pred_test))\n",
    "print(\"F1 score:\",f1_score(y_test, y_pred_test))\n",
    "\n",
    "print(\"Confusion Matrix:\")\n",
    "cm = confusion_matrix(y_test, y_pred_test)\n",
    "cmd_obj = ConfusionMatrixDisplay(cm, display_labels=['>30 & None', '<30'])\n",
    "cmd_obj.plot()\n",
    "\n",
    "cmd_obj.ax_.set(title='Confusion Matrix')\n",
    "plt.show()"
   ]
  },
  {
   "cell_type": "code",
   "execution_count": 52,
   "metadata": {},
   "outputs": [
    {
     "name": "stdout",
     "output_type": "stream",
     "text": [
      "              precision    recall  f1-score   support\n",
      "\n",
      "           0       0.19      0.09      0.12      2839\n",
      "           1       0.89      0.95      0.92     22603\n",
      "\n",
      "    accuracy                           0.86     25442\n",
      "   macro avg       0.54      0.52      0.52     25442\n",
      "weighted avg       0.81      0.86      0.83     25442\n",
      "\n"
     ]
    }
   ],
   "source": [
    "#Classification report to check details of actual performance against class\n",
    "from sklearn.metrics import classification_report\n",
    "print(classification_report(y_test, y_pred_test))"
   ]
  },
  {
   "cell_type": "code",
   "execution_count": 53,
   "metadata": {},
   "outputs": [
    {
     "data": {
      "text/plain": [
       "Text(0, 0.5, 'Accuracy')"
      ]
     },
     "execution_count": 53,
     "metadata": {},
     "output_type": "execute_result"
    },
    {
     "data": {
      "image/png": "[encoded data removed]",
      "text/plain": [
       "<Figure size 720x432 with 1 Axes>"
      ]
     },
     "metadata": {
      "needs_background": "light"
     },
     "output_type": "display_data"
    }
   ],
   "source": [
    "### Limit max_depth\n",
    "\n",
    "# Iteration through different depth values to find the value that minimizes *validation* error. \n",
    "\n",
    "dclfs = []\n",
    "\n",
    "max_depths = range (1,20)\n",
    "\n",
    "for max_depth in max_depths:\n",
    "    dclf =  RandomForestClassifier(max_depth=max_depth)\n",
    "    dclf.fit(X_train, y_train)\n",
    "    dclfs.append(dclf)\n",
    "    \n",
    "# Lets find the one that has the maximum validation set accuracy\n",
    "\n",
    "acc_scores_test = [metrics.accuracy_score(y_test, dclf.predict(X_test)) for dclf in dclfs]\n",
    "acc_scores_train = [metrics.accuracy_score(y_train, dclf.predict(X_train)) for dclf in dclfs]\n",
    "\n",
    "plt.figure(figsize=(10,  6))\n",
    "plt.grid()\n",
    "plt.plot(max_depths[:-1], acc_scores_train[:-1], label = \"Training\")\n",
    "plt.plot(max_depths[:-1], acc_scores_test[:-1], label = \"Test\")\n",
    "\n",
    "plt.xlabel(\"Max Depth\")\n",
    "plt.ylabel(\"Accuracy\")"
   ]
  },
  {
   "cell_type": "code",
   "execution_count": 54,
   "metadata": {},
   "outputs": [
    {
     "data": {
      "text/plain": [
       "<sklearn.metrics._plot.roc_curve.RocCurveDisplay at 0x1ab2e8e5660>"
      ]
     },
     "execution_count": 54,
     "metadata": {},
     "output_type": "execute_result"
    },
    {
     "data": {
      "image/png": "[encoded data removed]",
      "text/plain": [
       "<Figure size 1296x720 with 1 Axes>"
      ]
     },
     "metadata": {
      "needs_background": "light"
     },
     "output_type": "display_data"
    }
   ],
   "source": [
    "roc_auc = roc_auc_score(y_test, dclf.predict(X_test))\n",
    "plot_roc_curve(dclf, X_test, y_test,pos_label=0) "
   ]
  },
  {
   "cell_type": "markdown",
   "metadata": {},
   "source": [
    "#### SVM "
   ]
  },
  {
   "cell_type": "code",
   "execution_count": 56,
   "metadata": {},
   "outputs": [
    {
     "name": "stdout",
     "output_type": "stream",
     "text": [
      "Accuracy with train set: 0.8257370753323486\n",
      "Accuracy with Test set: 0.8146372140554988\n",
      "Precision score: 0.8963087694421057\n",
      "Recall score: 0.8948812104587887\n",
      "F1 score: 0.8955944210759353\n",
      "Confusion Matrix:\n"
     ]
    },
    {
     "data": {
      "image/png": "[encoded data removed]",
      "text/plain": [
       "<Figure size 1296x720 with 2 Axes>"
      ]
     },
     "metadata": {
      "needs_background": "light"
     },
     "output_type": "display_data"
    }
   ],
   "source": [
    "\n",
    "#Create a svm Classifier\n",
    "svmc = svm.SVC(kernel='linear') # Linear Kernel\n",
    "\n",
    "#Train the model using the training sets\n",
    "svmc= svmc.fit(X_train, y_train)\n",
    "\n",
    "\n",
    "#Predict the response for training dataset\n",
    "y_pred_train = svmc.predict(X_train)\n",
    "\n",
    "\n",
    "# Model Accuracy  for training set\n",
    "print(\"Accuracy with train set:\",metrics.accuracy_score(y_train, y_pred_train))\n",
    "\n",
    "#Predict the response for Test dataset\n",
    "y_pred_test = svmc.predict(X_test)\n",
    "\n",
    "# Model Accuracy  for Test set\n",
    "print(\"Accuracy with Test set:\",metrics.accuracy_score(y_test, y_pred_test))\n",
    "\n",
    "print(\"Precision score:\",precision_score(y_test, y_pred_test))\n",
    "print(\"Recall score:\",recall_score(y_test, y_pred_test))\n",
    "print(\"F1 score:\",f1_score(y_test, y_pred_test))\n",
    "\n",
    "print(\"Confusion Matrix:\")\n",
    "cm = confusion_matrix(y_test, y_pred_test)\n",
    "cmd_obj = ConfusionMatrixDisplay(cm, display_labels=['>30 & None', '<30'])\n",
    "cmd_obj.plot()\n",
    "\n",
    "cmd_obj.ax_.set(title='Confusion Matrix')\n",
    "plt.show()"
   ]
  },
  {
   "cell_type": "code",
   "execution_count": 57,
   "metadata": {},
   "outputs": [
    {
     "name": "stdout",
     "output_type": "stream",
     "text": [
      "              precision    recall  f1-score   support\n",
      "\n",
      "           0       0.17      0.18      0.17      2839\n",
      "           1       0.90      0.89      0.90     22603\n",
      "\n",
      "    accuracy                           0.81     25442\n",
      "   macro avg       0.53      0.54      0.54     25442\n",
      "weighted avg       0.82      0.81      0.82     25442\n",
      "\n"
     ]
    }
   ],
   "source": [
    "#Classification report to check details of actual performacnce against class\n",
    "from sklearn.metrics import classification_report\n",
    "print(classification_report(y_test, y_pred_test))"
   ]
  },
  {
   "cell_type": "code",
   "execution_count": 58,
   "metadata": {},
   "outputs": [
    {
     "data": {
      "text/plain": [
       "<sklearn.metrics._plot.roc_curve.RocCurveDisplay at 0x1ab0671c7f0>"
      ]
     },
     "execution_count": 58,
     "metadata": {},
     "output_type": "execute_result"
    },
    {
     "data": {
      "image/png": "[encoded data removed]",
      "text/plain": [
       "<Figure size 1296x720 with 1 Axes>"
      ]
     },
     "metadata": {
      "needs_background": "light"
     },
     "output_type": "display_data"
    }
   ],
   "source": [
    "roc_auc = roc_auc_score(y_test, dclf.predict(X_test))\n",
    "plot_roc_curve(svmc, X_test, y_test,pos_label=0) "
   ]
  },
  {
   "cell_type": "markdown",
   "metadata": {},
   "source": [
    "#### NB Model\n",
    "\n"
   ]
  },
  {
   "cell_type": "code",
   "execution_count": 59,
   "metadata": {},
   "outputs": [
    {
     "name": "stdout",
     "output_type": "stream",
     "text": [
      "Accuracy with train set: 0.6762304283604136\n",
      "Accuracy with Test set: 0.28928543353509945\n",
      "Precision score: 0.8930620761606677\n",
      "Recall score: 0.22722647436181037\n",
      "F1 score: 0.3622769274176483\n",
      "Confusion Matrix:\n"
     ]
    },
    {
     "data": {
      "image/png": "[encoded data removed]",
      "text/plain": [
       "<Figure size 1296x720 with 2 Axes>"
      ]
     },
     "metadata": {
      "needs_background": "light"
     },
     "output_type": "display_data"
    }
   ],
   "source": [
    "#Create a Gaussian Classifier\n",
    "gnbc = GaussianNB()\n",
    "\n",
    "# Train RF Classifer\n",
    "gnbc= gnbc.fit(X_train,y_train)\n",
    "\n",
    "#Predict the response for training dataset\n",
    "y_pred_train = gnbc.predict(X_train)\n",
    "\n",
    "\n",
    "# Model Accuracy  for training set\n",
    "print(\"Accuracy with train set:\",metrics.accuracy_score(y_train, y_pred_train))\n",
    "\n",
    "#Predict the response for Test dataset\n",
    "y_pred_test = gnbc.predict(X_test)\n",
    "\n",
    "# Model Accuracy  for Test set\n",
    "print(\"Accuracy with Test set:\",metrics.accuracy_score(y_test, y_pred_test))\n",
    "\n",
    "print(\"Precision score:\",precision_score(y_test, y_pred_test))\n",
    "print(\"Recall score:\",recall_score(y_test, y_pred_test))\n",
    "print(\"F1 score:\",f1_score(y_test, y_pred_test))\n",
    "\n",
    "\n",
    "print(\"Confusion Matrix:\")\n",
    "cm = confusion_matrix(y_test, y_pred_test)\n",
    "cmd_obj = ConfusionMatrixDisplay(cm, display_labels=['>30 & None', '<30'])\n",
    "cmd_obj.plot()\n",
    "\n",
    "cmd_obj.ax_.set(title='Confusion Matrix')\n",
    "plt.show()"
   ]
  },
  {
   "cell_type": "code",
   "execution_count": 60,
   "metadata": {},
   "outputs": [
    {
     "name": "stdout",
     "output_type": "stream",
     "text": [
      "              precision    recall  f1-score   support\n",
      "\n",
      "           0       0.11      0.78      0.20      2839\n",
      "           1       0.89      0.23      0.36     22603\n",
      "\n",
      "    accuracy                           0.29     25442\n",
      "   macro avg       0.50      0.51      0.28     25442\n",
      "weighted avg       0.81      0.29      0.34     25442\n",
      "\n"
     ]
    }
   ],
   "source": [
    "#Classification report to check details of actual performacnce against class\n",
    "from sklearn.metrics import classification_report\n",
    "print(classification_report(y_test, y_pred_test))"
   ]
  },
  {
   "cell_type": "code",
   "execution_count": 61,
   "metadata": {},
   "outputs": [
    {
     "data": {
      "text/plain": [
       "<sklearn.metrics._plot.roc_curve.RocCurveDisplay at 0x1ab0652a590>"
      ]
     },
     "execution_count": 61,
     "metadata": {},
     "output_type": "execute_result"
    },
    {
     "data": {
      "image/png": "[encoded data removed]",
      "text/plain": [
       "<Figure size 1296x720 with 1 Axes>"
      ]
     },
     "metadata": {
      "needs_background": "light"
     },
     "output_type": "display_data"
    }
   ],
   "source": [
    "roc_auc = roc_auc_score(y_test, gnbc.predict(X_test))\n",
    "plot_roc_curve(gnbc, X_test, y_test,pos_label=0) "
   ]
  },
  {
   "cell_type": "markdown",
   "metadata": {},
   "source": [
    "#### Light Gradient Boosting Model\n"
   ]
  },
  {
   "cell_type": "code",
   "execution_count": 62,
   "metadata": {},
   "outputs": [
    {
     "name": "stdout",
     "output_type": "stream",
     "text": [
      "Accuracy with train set: 0.9742983751846381\n",
      "Accuracy with Test set: 0.8265466551371747\n",
      "Precision score: 0.9001671946497712\n",
      "Recall score: 0.9051453346900854\n",
      "F1 score: 0.902649401072114\n",
      "Confusion Matrix:\n"
     ]
    },
    {
     "data": {
      "image/png": "[encoded data removed]",
      "text/plain": [
       "<Figure size 1296x720 with 2 Axes>"
      ]
     },
     "metadata": {
      "needs_background": "light"
     },
     "output_type": "display_data"
    }
   ],
   "source": [
    "#Creation of LGBM Classifier\n",
    "lgbm = LGBMClassifier(n_estimators = 1500 ,max_depth= 8)\n",
    "\n",
    "# Train RF Classifer\n",
    "lgbm = lgbm.fit(X_train,y_train)\n",
    "\n",
    "#Predict the response for training dataset\n",
    "y_pred_train = lgbm.predict(X_train)\n",
    "\n",
    "\n",
    "# Model Accuracy  for training set\n",
    "print(\"Accuracy with train set:\",metrics.accuracy_score(y_train, y_pred_train))\n",
    "\n",
    "#Predict the response for Test dataset\n",
    "y_pred_test = lgbm.predict(X_test)\n",
    "\n",
    "# Model Accuracy  for Test set\n",
    "print(\"Accuracy with Test set:\",metrics.accuracy_score(y_test, y_pred_test))\n",
    "\n",
    "print(\"Precision score:\",precision_score(y_test, y_pred_test))\n",
    "print(\"Recall score:\",recall_score(y_test, y_pred_test))\n",
    "print(\"F1 score:\",f1_score(y_test, y_pred_test))\n",
    "\n",
    "print(\"Confusion Matrix:\")\n",
    "cm = confusion_matrix(y_test, y_pred_test)\n",
    "cmd_obj = ConfusionMatrixDisplay(cm, display_labels=['>30 & None', '<30'])\n",
    "cmd_obj.plot()\n",
    "\n",
    "cmd_obj.ax_.set(title='Confusion Matrix')\n",
    "plt.show()"
   ]
  },
  {
   "cell_type": "code",
   "execution_count": 63,
   "metadata": {},
   "outputs": [
    {
     "name": "stdout",
     "output_type": "stream",
     "text": [
      "              precision    recall  f1-score   support\n",
      "\n",
      "           0       0.21      0.20      0.21      2839\n",
      "           1       0.90      0.91      0.90     22603\n",
      "\n",
      "    accuracy                           0.83     25442\n",
      "   macro avg       0.56      0.55      0.55     25442\n",
      "weighted avg       0.82      0.83      0.82     25442\n",
      "\n"
     ]
    }
   ],
   "source": [
    "#Classification report to check details of actual performacnce against class\n",
    "from sklearn.metrics import classification_report\n",
    "print(classification_report(y_test, y_pred_test))"
   ]
  },
  {
   "cell_type": "code",
   "execution_count": 64,
   "metadata": {},
   "outputs": [
    {
     "data": {
      "text/plain": [
       "<sklearn.metrics._plot.roc_curve.RocCurveDisplay at 0x1ab064e1780>"
      ]
     },
     "execution_count": 64,
     "metadata": {},
     "output_type": "execute_result"
    },
    {
     "data": {
      "image/png": "[encoded data removed]",
      "text/plain": [
       "<Figure size 1296x720 with 1 Axes>"
      ]
     },
     "metadata": {
      "needs_background": "light"
     },
     "output_type": "display_data"
    }
   ],
   "source": [
    "roc_auc = roc_auc_score(y_test, lgbm.predict(X_test))\n",
    "plot_roc_curve(lgbm, X_test, y_test,pos_label=0) "
   ]
  },
  {
   "cell_type": "code",
   "execution_count": 65,
   "metadata": {},
   "outputs": [
    {
     "data": {
      "text/plain": [
       "Text(0, 0.5, 'Accuracy')"
      ]
     },
     "execution_count": 65,
     "metadata": {},
     "output_type": "execute_result"
    },
    {
     "data": {
      "image/png": "[encoded data removed]",
      "text/plain": [
       "<Figure size 720x432 with 1 Axes>"
      ]
     },
     "metadata": {
      "needs_background": "light"
     },
     "output_type": "display_data"
    }
   ],
   "source": [
    "### Limit max_depth\n",
    "\n",
    "# Iteration through different depth values to find the value that minimizes *validation* error. \n",
    "\n",
    "lgbm_mod = []\n",
    "\n",
    "max_depths = range (1,20)\n",
    "\n",
    "for max_depth in max_depths:\n",
    "    lgbm_m =  LGBMClassifier(max_depth=max_depth)\n",
    "    lgbm_m.fit(X_train, y_train)\n",
    "    lgbm_mod.append(lgbm_m)\n",
    "    \n",
    "# Lets find the one that has the maximum validation set accuracy\n",
    "\n",
    "acc_scores_test = [metrics.accuracy_score(y_test, lgbm_m.predict(X_test)) for lgbm_m in lgbm_mod]\n",
    "acc_scores_train = [metrics.accuracy_score(y_train, lgbm_m.predict(X_train)) for lgbm_m in lgbm_mod]\n",
    "\n",
    "plt.figure(figsize=(10,  6))\n",
    "plt.grid()\n",
    "plt.plot(max_depths[:-1], acc_scores_train[:-1], label = \"Training\")\n",
    "plt.plot(max_depths[:-1], acc_scores_test[:-1], label = \"Test\")\n",
    "\n",
    "plt.xlabel(\"Max Depth\")\n",
    "plt.ylabel(\"Accuracy\")"
   ]
  },
  {
   "cell_type": "markdown",
   "metadata": {},
   "source": [
    "##### Random Forest Hyper Parms Tuning"
   ]
  },
  {
   "cell_type": "code",
   "execution_count": 67,
   "metadata": {},
   "outputs": [
    {
     "name": "stdout",
     "output_type": "stream",
     "text": [
      "Fitting 3 folds for each of 108 candidates, totalling 324 fits\n"
     ]
    },
    {
     "data": {
      "text/plain": [
       "{'max_depth': 8,\n",
       " 'max_features': 8,\n",
       " 'min_samples_split': 2,\n",
       " 'n_estimators': 700}"
      ]
     },
     "execution_count": 67,
     "metadata": {},
     "output_type": "execute_result"
    }
   ],
   "source": [
    "Rf = RandomForestClassifier()\n",
    "\n",
    "Rf_params = {\"max_depth\": [2,5,8],\n",
    "             \"n_estimators\": [100,200,500,700],\n",
    "             \"max_features\": [3,5,8],\n",
    "             \"min_samples_split\":[2,5,10]}\n",
    "\n",
    "Rf_cv_model = GridSearchCV(Rf, Rf_params, cv=3, n_jobs=-1, verbose=2).fit(X_train, y_train)\n",
    "\n",
    "Rf_cv_model.best_params_"
   ]
  },
  {
   "cell_type": "markdown",
   "metadata": {},
   "source": [
    "##### LGBM Hyper Parms Tuning"
   ]
  },
  {
   "cell_type": "code",
   "execution_count": 68,
   "metadata": {},
   "outputs": [
    {
     "name": "stdout",
     "output_type": "stream",
     "text": [
      "Fitting 3 folds for each of 72 candidates, totalling 216 fits\n"
     ]
    },
    {
     "data": {
      "text/plain": [
       "{'learning_rate': 0.1, 'max_depth': 8, 'n_estimators': 500, 'subsample': 0.1}"
      ]
     },
     "execution_count": 68,
     "metadata": {},
     "output_type": "execute_result"
    }
   ],
   "source": [
    "lgbm = LGBMClassifier()\n",
    "\n",
    "lgbm_params = {\"learning_rate\":[0.01,0.1,0.05],\n",
    "              \"n_estimators\": [100,200,500],\n",
    "               \"subsample\":[0.1,0.2],\n",
    "              \"max_depth\":[2,3,5,8]}\n",
    "\n",
    "lgbm_cv_model = GridSearchCV(lgbm,lgbm_params,cv=3,n_jobs=-1,verbose=2).fit(X_train,y_train)\n",
    "\n",
    "lgbm_cv_model.best_params_"
   ]
  },
  {
   "cell_type": "markdown",
   "metadata": {},
   "source": [
    "##### Decision Tree Hyper Parms Tuning"
   ]
  },
  {
   "cell_type": "code",
   "execution_count": 69,
   "metadata": {},
   "outputs": [
    {
     "name": "stdout",
     "output_type": "stream",
     "text": [
      "Fitting 4 folds for each of 84 candidates, totalling 336 fits\n"
     ]
    },
    {
     "data": {
      "text/plain": [
       "{'criterion': 'gini', 'max_depth': 20, 'min_samples_leaf': 10}"
      ]
     },
     "execution_count": 69,
     "metadata": {},
     "output_type": "execute_result"
    }
   ],
   "source": [
    "DT = DecisionTreeClassifier()\n",
    "\n",
    "params = {\n",
    "    'max_depth': [4, 6, 9, 11, 13, 16 ,20],\n",
    "    'min_samples_leaf': [10, 20, 30, 40, 50, 100],\n",
    "    'criterion': [\"gini\", \"entropy\"]\n",
    "}\n",
    "\n",
    "DT_cv_model = GridSearchCV(estimator=DT, param_grid=params, cv=4, n_jobs=-1, verbose=1, scoring = \"accuracy\").fit(X_train,y_train)\n",
    "\n",
    "DT_cv_model.best_params_"
   ]
  },
  {
   "cell_type": "markdown",
   "metadata": {},
   "source": [
    "#### Re-training predective model with tuned hyperparams "
   ]
  },
  {
   "cell_type": "code",
   "execution_count": 70,
   "metadata": {},
   "outputs": [
    {
     "name": "stdout",
     "output_type": "stream",
     "text": [
      "Training Set Accuracy: 0.9238168389955687\n",
      "Test Set Accuracy: 0.7708906532505306\n",
      "              precision    recall  f1-score   support\n",
      "\n",
      "           0       0.15      0.24      0.19      2839\n",
      "           1       0.90      0.84      0.87     22603\n",
      "\n",
      "    accuracy                           0.77     25442\n",
      "   macro avg       0.53      0.54      0.53     25442\n",
      "weighted avg       0.81      0.77      0.79     25442\n",
      "\n"
     ]
    },
    {
     "data": {
      "text/plain": [
       "<sklearn.metrics._plot.roc_curve.RocCurveDisplay at 0x1ab35f45e70>"
      ]
     },
     "execution_count": 70,
     "metadata": {},
     "output_type": "execute_result"
    },
    {
     "data": {
      "image/png": "[encoded data removed]",
      "text/plain": [
       "<Figure size 1296x720 with 1 Axes>"
      ]
     },
     "metadata": {
      "needs_background": "light"
     },
     "output_type": "display_data"
    }
   ],
   "source": [
    "# Training DT classifier with Tuned Hyper parameters \n",
    "from sklearn.pipeline import Pipeline\n",
    "DT_model = DecisionTreeClassifier(criterion = 'gini', max_depth= 20, min_samples_leaf= 10)\n",
    "pipeline = Pipeline([\n",
    "    (\"MinMax Scaling\", MinMaxScaler()),\n",
    "    (\"Decision Tree Classifier\", DT_model)\n",
    "])\n",
    "\n",
    "# Train Decision Tree Classifer\n",
    "pipeline = pipeline.fit(X_train,y_train)\n",
    "\n",
    "y_pred_train = pipeline.predict(X_train)\n",
    "print(\"Training Set Accuracy:\",metrics.accuracy_score(y_train, y_pred_train))\n",
    "\n",
    "# Predict the response for test dataset\n",
    "y_pred_test = pipeline.predict(X_test)\n",
    "print(\"Test Set Accuracy:\",metrics.accuracy_score(y_test, y_pred_test))\n",
    "print(classification_report(y_test, y_pred_test))\n",
    "\n",
    "roc_auc = roc_auc_score(y_test, DT_model.predict(X_test))\n",
    "plot_roc_curve(DT_model, X_test, y_test,pos_label=0)  "
   ]
  },
  {
   "cell_type": "code",
   "execution_count": 71,
   "metadata": {},
   "outputs": [
    {
     "name": "stdout",
     "output_type": "stream",
     "text": [
      "Training Set Accuracy: 0.8697311669128508\n",
      "Test Set Accuracy: 0.7594921782878704\n",
      "              precision    recall  f1-score   support\n",
      "\n",
      "           0       0.15      0.26      0.19      2839\n",
      "           1       0.90      0.82      0.86     22603\n",
      "\n",
      "    accuracy                           0.76     25442\n",
      "   macro avg       0.53      0.54      0.53     25442\n",
      "weighted avg       0.82      0.76      0.78     25442\n",
      "\n"
     ]
    },
    {
     "data": {
      "text/plain": [
       "<sklearn.metrics._plot.roc_curve.RocCurveDisplay at 0x1ab390d20b0>"
      ]
     },
     "execution_count": 71,
     "metadata": {},
     "output_type": "execute_result"
    },
    {
     "data": {
      "image/png": "[encoded data removed]",
      "text/plain": [
       "<Figure size 1296x720 with 1 Axes>"
      ]
     },
     "metadata": {
      "needs_background": "light"
     },
     "output_type": "display_data"
    }
   ],
   "source": [
    "# Training RF classifier with Tuned Hyper parameters \n",
    "RF_model = RandomForestClassifier( max_depth= 8, max_features = 8, min_samples_split = 2, n_estimators = 700)\n",
    "\n",
    "#pipeline containing both the MinMaxScaler and model type\n",
    "pipeline = Pipeline([\n",
    "    (\"MinMax Scaling\", MinMaxScaler()),\n",
    "    (\"RF\", RF_model)\n",
    "])\n",
    "\n",
    "# Train LGBM Classifer \n",
    "pipeline = pipeline.fit(X_train,y_train)\n",
    "# Predict the response for train dataset\n",
    "\n",
    "y_pred_train = pipeline.predict(X_train)\n",
    "print(\"Training Set Accuracy:\",metrics.accuracy_score(y_train, y_pred_train))\n",
    "# Predict the response for test dataset\n",
    "y_pred_test = pipeline.predict(X_test)\n",
    "print(\"Test Set Accuracy:\",metrics.accuracy_score(y_test, y_pred_test))\n",
    "print(classification_report(y_test, y_pred_test))\n",
    "\n",
    "roc_auc = roc_auc_score(y_test, RF_model.predict(X_test))\n",
    "plot_roc_curve(RF_model, X_test, y_test,pos_label=0) "
   ]
  },
  {
   "cell_type": "code",
   "execution_count": 72,
   "metadata": {},
   "outputs": [
    {
     "name": "stdout",
     "output_type": "stream",
     "text": [
      "Training Set Accuracy: 0.888685376661743\n",
      "Test Set Accuracy: 0.8250923669522836\n",
      "              precision    recall  f1-score   support\n",
      "\n",
      "           0       0.19      0.17      0.18      2839\n",
      "           1       0.90      0.91      0.90     22603\n",
      "\n",
      "    accuracy                           0.83     25442\n",
      "   macro avg       0.54      0.54      0.54     25442\n",
      "weighted avg       0.82      0.83      0.82     25442\n",
      "\n"
     ]
    },
    {
     "data": {
      "text/plain": [
       "<sklearn.metrics._plot.roc_curve.RocCurveDisplay at 0x1ab2ea16650>"
      ]
     },
     "execution_count": 72,
     "metadata": {},
     "output_type": "execute_result"
    },
    {
     "data": {
      "image/png": "[encoded data removed]",
      "text/plain": [
       "<Figure size 1296x720 with 1 Axes>"
      ]
     },
     "metadata": {
      "needs_background": "light"
     },
     "output_type": "display_data"
    }
   ],
   "source": [
    "# Training LGBM classifier with Tuned Hyper parameters \n",
    "lgbm_model = LGBMClassifier(learning_rate= 0.05, max_depth= 3, n_estimators= 200, subsample = 0.1) #model is LGBM classifier\n",
    "\n",
    "#pipeline containing both the MinMaxScaler and model type\n",
    "pipeline = Pipeline([\n",
    "    (\"MinMax Scaling\", MinMaxScaler()),\n",
    "    (\"LGBM\", lgbm_model)\n",
    "])\n",
    "\n",
    "# Train LGBM Classifer \n",
    "pipeline = pipeline.fit(X_train,y_train)\n",
    "# Predict the response for train dataset\n",
    "\n",
    "y_pred_train = pipeline.predict(X_train)\n",
    "print(\"Training Set Accuracy:\",metrics.accuracy_score(y_train, y_pred_train))\n",
    "\n",
    "# Predict the response for test dataset\n",
    "y_pred_test = pipeline.predict(X_test)\n",
    "print(\"Test Set Accuracy:\",metrics.accuracy_score(y_test, y_pred_test))\n",
    "print(classification_report(y_test, y_pred_test))\n",
    "\n",
    "roc_auc = roc_auc_score(y_test, lgbm_model.predict(X_test))\n",
    "plot_roc_curve(lgbm_model, X_test, y_test,pos_label=0) "
   ]
  },
  {
   "cell_type": "markdown",
   "metadata": {},
   "source": [
    "#### K-fold Cross Validation"
   ]
  },
  {
   "cell_type": "code",
   "execution_count": 73,
   "metadata": {},
   "outputs": [
    {
     "name": "stdout",
     "output_type": "stream",
     "text": [
      "accuracy of each fold for LGBM - [0.8986876640419947, 0.9101487314085739, 0.926159230096238, 0.9308775920902966, 0.9454020474232216]\n",
      "Avg accuracy for LGBM : 0.922255053012065\n",
      "accuracy of each fold for DT- [0.8973753280839895, 0.9095363079615049, 0.9258092738407699, 0.9301776183393122, 0.9455770408609677]\n",
      "Avg accuracy for DT: 0.9216951138173088\n",
      "accuracy of each fold for RF - [0.8984251968503937, 0.9102362204724409, 0.926246719160105, 0.9307025986525506, 0.9458395310175869]\n",
      "Avg accuracy for RF : 0.9222900532306154\n"
     ]
    }
   ],
   "source": [
    "from sklearn.model_selection import KFold \n",
    "from sklearn.metrics import accuracy_score\n",
    "\n",
    "k = 5\n",
    "kf = KFold(n_splits=k, random_state=None)\n",
    "\n",
    "acc_score_DT = []\n",
    "acc_score_RF = []\n",
    "acc_score_LG = []\n",
    "\n",
    "X_training.reset_index(inplace= True)\n",
    "y = X_training['Target']\n",
    "X = X_training.drop(columns='Target')\n",
    "\n",
    "\n",
    "for train_index , test_index in kf.split(X):\n",
    "\n",
    "    X_train , X_test = X.iloc[train_index,:],X.iloc[test_index,:]\n",
    "    y_train , y_test = y[train_index] , y[test_index]\n",
    "    model_DT = DecisionTreeClassifier(criterion=\"gini\", max_depth=5)\n",
    "    model_RF = RandomForestClassifier(n_estimators = 1000, random_state = 42)\n",
    "    model_LG = LGBMClassifier()\n",
    "    \n",
    "\n",
    "    model_DT.fit(X_train,y_train)\n",
    "    model_LG.fit(X_train,y_train)\n",
    "    model_RF.fit(X_train,y_train)\n",
    "\n",
    "    pred_values_DT = model_DT.predict(X_test)\n",
    "    pred_values_LG = model_LG.predict(X_test)\n",
    "    pred_values_RF = model_RF.predict(X_test)\n",
    "\n",
    "    acc_DT = accuracy_score(pred_values_DT , y_test)\n",
    "    acc_LG = accuracy_score(pred_values_LG , y_test)\n",
    "    acc_RF = accuracy_score(pred_values_RF , y_test)\n",
    "\n",
    "    acc_score_DT.append(acc_DT)\n",
    "    acc_score_RF.append(acc_RF)\n",
    "    acc_score_LG.append(acc_LG)\n",
    "     \n",
    "avg_acc_score_DT = sum(acc_score_DT)/k\n",
    "avg_acc_score_LG = sum(acc_score_LG)/k\n",
    "avg_acc_score_RF = sum(acc_score_RF)/k\n",
    "\n",
    "\n",
    "print('accuracy of each fold for LGBM - {}'.format(acc_score_LG))\n",
    "print('Avg accuracy for LGBM : {}'.format(avg_acc_score_LG))\n",
    "\n",
    "print('accuracy of each fold for DT- {}'.format(acc_score_DT))\n",
    "print('Avg accuracy for DT: {}'.format(avg_acc_score_DT))\n",
    "\n",
    "print('accuracy of each fold for RF - {}'.format(acc_score_RF))\n",
    "print('Avg accuracy for RF : {}'.format(avg_acc_score_RF))"
   ]
  },
  {
   "cell_type": "markdown",
   "metadata": {},
   "source": [
    "<b> Conculsion: </b>\n",
    "Due to the categorical nature of the dataset, we have applied decision tree and random forest and LightGBM algorithms to determine the major importance factor between the variables since its information gain system will allow us to measure each feature's importance accordingly. In model training, the most challenging issue is class imbalance of the data, as the data (predict <30 ) is limited and related to health. In order to solve this problem, we used smote, under sampling, and oversampling.\n",
    "Due to a lot of discrepancies in this real-world dataset, the models were sub optimized. Even solving the class imbalance problem through sampling techniques had some effect on the end-result. Our study has implemented multiple models including decision trees, random forests, and light gradient boosting models, out of which LGBM produced the best accuracy results (0.9570 - train & 0.77500 - test) and AUC values (0.6). Best Features were extracted using LGBM Classifier and BernulliNB based RFECV. The recall and precision for \"*30 admissions\" are inversely related to the model's accuracy. \n",
    "For the further steps and the dataset is hugely imbalanced, adding further samples to the dataset could improve the result for the recall and precision rates for \"<30 admissions\". We worked also on implementing the \n"
   ]
  },
  {
   "cell_type": "code",
   "execution_count": null,
   "metadata": {},
   "outputs": [],
   "source": []
  }
 ],
 "metadata": {
  "interpreter": {
   "hash": "2a3d0378bcde1da47c40a49b54ce99178fad96295c3c7f302ef2f1d536dc5dad"
  },
  "kernelspec": {
   "display_name": "Python 3 (ipykernel)",
   "language": "python",
   "name": "python3"
  },
  "language_info": {
   "codemirror_mode": {
    "name": "ipython",
    "version": 3
   },
   "file_extension": ".py",
   "mimetype": "text/x-python",
   "name": "python",
   "nbconvert_exporter": "python",
   "pygments_lexer": "ipython3",
   "version": "3.10.1"
  }
 },
 "nbformat": 4,
 "nbformat_minor": 2
}
